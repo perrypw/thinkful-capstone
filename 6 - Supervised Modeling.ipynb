{
 "cells": [
  {
   "cell_type": "markdown",
   "metadata": {},
   "source": [
    "In this notebook, we'll get into the nitty gritty of supervised modeling based on our data exploration and feature engineering. As explained at the end of the last notebook, we'll be using two season cancellation rate as our metric - why? It doesn't suffer from too much class imbalance (see below baseline figure), which is useful when working with a small/medium sized dataset. Secondly, it's a better metric for show \"failure\" as we understand it than the same measure over one or three seasons.\n",
    "\n",
    "The key metric we will use to evaluate the models is simply accuracy, since we are primarily aiming to find a model that most often correctly identifies whether or not a show survives past the second season. To add to our understanding and for application to holdouts later in the project, we'll also include recall/sensitivity (tp/(tp+fn)) and precision (tp/(tp+fp))."
   ]
  },
  {
   "cell_type": "code",
   "execution_count": 1,
   "metadata": {
    "collapsed": true
   },
   "outputs": [],
   "source": [
    "import pandas as pd\n",
    "import numpy as np\n",
    "import matplotlib.pyplot as plt\n",
    "import seaborn as sns\n",
    "from sklearn.linear_model import LogisticRegression\n",
    "from sklearn.ensemble import RandomForestClassifier\n",
    "from sklearn.ensemble import GradientBoostingClassifier\n",
    "from sklearn.model_selection import cross_val_score\n",
    "from sklearn.decomposition import PCA\n",
    "from sklearn.model_selection import GridSearchCV\n",
    "from sklearn.svm import SVC\n",
    "from sklearn import metrics\n",
    "from scipy import stats\n",
    "from sklearn.externals import joblib\n",
    "shows = pd.read_pickle(\"cleaned_dataset_v4.pkl\")\n",
    "shows = shows[shows['status'] != 'Coming Soon']"
   ]
  },
  {
   "cell_type": "code",
   "execution_count": 2,
   "metadata": {
    "collapsed": true
   },
   "outputs": [],
   "source": [
    "# Narrowing down dataset to only those eligible for one year cancellation (eg before 2018)\n",
    "no_na = shows.copy()\n",
    "no_na = no_na[no_na['start_year'] < 2017]\n",
    "no_na = no_na[(no_na['log_imdb_votes_per_season'].notnull()) & (no_na['imdb_rating'].notnull())]\n",
    "no_na.to_pickle(\"no_na_pre2017_v4.pkl\")\n",
    "shows = shows[shows['start_year'] < 2017]\n",
    "shows.to_pickle('cleaned_dataset_v4_pre2017')"
   ]
  },
  {
   "cell_type": "code",
   "execution_count": 3,
   "metadata": {},
   "outputs": [
    {
     "name": "stdout",
     "output_type": "stream",
     "text": [
      "Baseline accuracy (dumb model): 57.45%\n"
     ]
    }
   ],
   "source": [
    "baseline = no_na['two_season_cancel'].value_counts()[0]/len(no_na)\n",
    "print('Baseline accuracy (dumb model): {0:.2%}'.format(baseline))"
   ]
  },
  {
   "cell_type": "code",
   "execution_count": 32,
   "metadata": {
    "collapsed": true
   },
   "outputs": [],
   "source": [
    "# Dataframe to house our results\n",
    "#model_comp = pd.DataFrame(columns=['accuracy','precision','recall'])\n",
    "#model_comp_imdb = pd.DataFrame(columns=['accuracy','precision','recall'])\n",
    "model_comp = pd.read_pickle(\"Extras/model_comp.pkl\")\n",
    "model_comp_imdb = pd.read_pickle(\"Extras/model_comp_imdb.pkl\")"
   ]
  },
  {
   "cell_type": "markdown",
   "metadata": {},
   "source": [
    "### Logistic Regression\n",
    "With the IMDB data"
   ]
  },
  {
   "cell_type": "code",
   "execution_count": 54,
   "metadata": {
    "collapsed": true
   },
   "outputs": [],
   "source": [
    "lrc = LogisticRegression()"
   ]
  },
  {
   "cell_type": "code",
   "execution_count": 7,
   "metadata": {
    "collapsed": true
   },
   "outputs": [],
   "source": [
    "X_imdb = pd.concat([pd.get_dummies(no_na[['network_type','rating_cat']].apply(lambda x: x.astype('O')))\\\n",
    "               ,no_na[['risky_2season','log_imdb_votes_per_season','imdb_rating','start_year']]],axis=1)\n",
    "Y = no_na['two_season_cancel']"
   ]
  },
  {
   "cell_type": "code",
   "execution_count": 66,
   "metadata": {
    "collapsed": true
   },
   "outputs": [],
   "source": [
    "params = {'C': np.power(10,np.arange(-10,10).astype(float))\n",
    "          ,'penalty':['l1','l2']}"
   ]
  },
  {
   "cell_type": "code",
   "execution_count": 67,
   "metadata": {
    "collapsed": true
   },
   "outputs": [],
   "source": [
    "GS_LRC = GridSearchCV(lrc,param_grid=params,scoring='accuracy',refit=True)"
   ]
  },
  {
   "cell_type": "code",
   "execution_count": 69,
   "metadata": {
    "scrolled": true
   },
   "outputs": [
    {
     "name": "stdout",
     "output_type": "stream",
     "text": [
      "LRC accuracy (grid-searched): 87.54%\n"
     ]
    }
   ],
   "source": [
    "GS_LRC.fit(X_imdb,Y)\n",
    "lrc_imdb_acc = GS_LRC.best_score_\n",
    "print('LRC accuracy (grid-searched): {0:.2%}'.format(lrc_imdb_acc))"
   ]
  },
  {
   "cell_type": "code",
   "execution_count": 71,
   "metadata": {
    "scrolled": true
   },
   "outputs": [
    {
     "data": {
      "text/plain": [
       "{'C': 100000000.0, 'penalty': 'l1'}"
      ]
     },
     "execution_count": 71,
     "metadata": {},
     "output_type": "execute_result"
    }
   ],
   "source": [
    "GS_LRC.best_params_"
   ]
  },
  {
   "cell_type": "code",
   "execution_count": 72,
   "metadata": {},
   "outputs": [
    {
     "data": {
      "text/html": [
       "<div>\n",
       "<style scoped>\n",
       "    .dataframe tbody tr th:only-of-type {\n",
       "        vertical-align: middle;\n",
       "    }\n",
       "\n",
       "    .dataframe tbody tr th {\n",
       "        vertical-align: top;\n",
       "    }\n",
       "\n",
       "    .dataframe thead th {\n",
       "        text-align: right;\n",
       "    }\n",
       "</style>\n",
       "<table border=\"1\" class=\"dataframe\">\n",
       "  <thead>\n",
       "    <tr style=\"text-align: right;\">\n",
       "      <th></th>\n",
       "      <th>accuracy</th>\n",
       "      <th>precision</th>\n",
       "      <th>recall</th>\n",
       "    </tr>\n",
       "  </thead>\n",
       "  <tbody>\n",
       "    <tr>\n",
       "      <th>Regularized Logistic Regression</th>\n",
       "      <td>0.87538</td>\n",
       "      <td>0.889887</td>\n",
       "      <td>0.805436</td>\n",
       "    </tr>\n",
       "  </tbody>\n",
       "</table>\n",
       "</div>"
      ],
      "text/plain": [
       "                                 accuracy  precision    recall\n",
       "Regularized Logistic Regression   0.87538   0.889887  0.805436"
      ]
     },
     "execution_count": 72,
     "metadata": {},
     "output_type": "execute_result"
    }
   ],
   "source": [
    "# Saving the final prediction results...\n",
    "lrc_imdb_prec = cross_val_score(GS_LRC.best_estimator_,X_imdb,Y,scoring='precision').mean()\n",
    "lrc_imdb_rec = cross_val_score(GS_LRC.best_estimator_,X_imdb,Y,scoring='recall').mean()\n",
    "\n",
    "model_comp_imdb.loc['Regularized Logistic Regression'] = [lrc_imdb_acc,lrc_imdb_prec,lrc_imdb_rec]\n",
    "model_comp_imdb"
   ]
  },
  {
   "cell_type": "markdown",
   "metadata": {},
   "source": [
    "Without the IMDB Data"
   ]
  },
  {
   "cell_type": "code",
   "execution_count": 42,
   "metadata": {
    "collapsed": true
   },
   "outputs": [],
   "source": [
    "X = pd.concat([pd.get_dummies(no_na[['network_type','country','tvmaze_ep_day','primary_genre']].apply(lambda x: x.astype('O')))\\\n",
    "               ,no_na[['risky_2season','start_year','quarter','month']]],axis=1)"
   ]
  },
  {
   "cell_type": "code",
   "execution_count": 43,
   "metadata": {
    "collapsed": true
   },
   "outputs": [],
   "source": [
    "GS_LRC = GridSearchCV(lrc,param_grid=params,scoring='accuracy',refit=True)"
   ]
  },
  {
   "cell_type": "code",
   "execution_count": 49,
   "metadata": {
    "scrolled": true
   },
   "outputs": [
    {
     "name": "stdout",
     "output_type": "stream",
     "text": [
      "LRC accuracy (grid-searched): 67.25%\n"
     ]
    }
   ],
   "source": [
    "GS_LRC.fit(X,Y)\n",
    "lrc_acc = GS_LRC.best_score_\n",
    "print('LRC accuracy (grid-searched): {0:.2%}'.format(lrc_score))"
   ]
  },
  {
   "cell_type": "code",
   "execution_count": 51,
   "metadata": {
    "collapsed": true
   },
   "outputs": [],
   "source": [
    "lrc_prec = cross_val_score(GS_LRC.best_estimator_,X,Y,scoring='precision').mean()\n",
    "lrc_rec = cross_val_score(GS_LRC.best_estimator_,X,Y,scoring='recall').mean()"
   ]
  },
  {
   "cell_type": "code",
   "execution_count": 53,
   "metadata": {},
   "outputs": [
    {
     "data": {
      "text/html": [
       "<div>\n",
       "<style scoped>\n",
       "    .dataframe tbody tr th:only-of-type {\n",
       "        vertical-align: middle;\n",
       "    }\n",
       "\n",
       "    .dataframe tbody tr th {\n",
       "        vertical-align: top;\n",
       "    }\n",
       "\n",
       "    .dataframe thead th {\n",
       "        text-align: right;\n",
       "    }\n",
       "</style>\n",
       "<table border=\"1\" class=\"dataframe\">\n",
       "  <thead>\n",
       "    <tr style=\"text-align: right;\">\n",
       "      <th></th>\n",
       "      <th>accuracy</th>\n",
       "      <th>precision</th>\n",
       "      <th>recall</th>\n",
       "    </tr>\n",
       "  </thead>\n",
       "  <tbody>\n",
       "    <tr>\n",
       "      <th>Regularized Logistic Regression</th>\n",
       "      <td>0.672492</td>\n",
       "      <td>0.615592</td>\n",
       "      <td>0.608964</td>\n",
       "    </tr>\n",
       "  </tbody>\n",
       "</table>\n",
       "</div>"
      ],
      "text/plain": [
       "                                 accuracy precision    recall\n",
       "Regularized Logistic Regression  0.672492  0.615592  0.608964"
      ]
     },
     "execution_count": 53,
     "metadata": {},
     "output_type": "execute_result"
    }
   ],
   "source": [
    "# Saving the model results...\n",
    "model_comp.loc['Regularized Logistic Regression'] = [lrc_acc,lrc_prec,lrc_rec]\n",
    "model_comp"
   ]
  },
  {
   "cell_type": "markdown",
   "metadata": {},
   "source": [
    "### Random Forest\n",
    "First with IMDB information"
   ]
  },
  {
   "cell_type": "code",
   "execution_count": 3,
   "metadata": {
    "collapsed": true
   },
   "outputs": [],
   "source": [
    "rfc = RandomForestClassifier()#(n_jobs=-1)"
   ]
  },
  {
   "cell_type": "code",
   "execution_count": 8,
   "metadata": {
    "collapsed": true
   },
   "outputs": [],
   "source": [
    "X_imdb = pd.concat([pd.get_dummies(no_na[['network_type','rating_cat','country','tvmaze_ep_day']].apply(lambda x: x.astype('O')))\\\n",
    "               ,no_na[['risky_2season','log_imdb_votes_per_season','imdb_rating','start_year']]],axis=1)"
   ]
  },
  {
   "cell_type": "code",
   "execution_count": 16,
   "metadata": {
    "collapsed": true
   },
   "outputs": [],
   "source": [
    "# Alternative feature set < the one to be used\n",
    "X_imdb = pd.concat([pd.get_dummies(no_na[['network_type']].apply(lambda x: x.astype('O')))\\\n",
    "               ,no_na[['risky_2season','log_imdb_votes_per_season','imdb_rating','start_year']]],axis=1)"
   ]
  },
  {
   "cell_type": "code",
   "execution_count": 17,
   "metadata": {
    "collapsed": true
   },
   "outputs": [],
   "source": [
    "# Successive gridsearching\n",
    "rf_params = {\n",
    "    'n_estimators':np.arange(25,45,5),\n",
    "    'max_features':['auto','log2','sqrt',None],\n",
    "    'max_depth':np.append(np.array([None]),np.arange(2,11,1)),\n",
    "    'min_samples_leaf':np.arange(1,5),\n",
    "}\n",
    "\n",
    "GS_RFC = GridSearchCV(rfc,param_grid=rf_params,scoring='accuracy',refit=True)"
   ]
  },
  {
   "cell_type": "code",
   "execution_count": 18,
   "metadata": {
    "scrolled": true
   },
   "outputs": [
    {
     "name": "stdout",
     "output_type": "stream",
     "text": [
      "RFC accuracy (grid-searched): 90.73%\n"
     ]
    }
   ],
   "source": [
    "GS_RFC.fit(X_imdb,Y)\n",
    "rfc_imdb_acc = GS_RFC.best_score_\n",
    "print('RFC accuracy (grid-searched): {0:.2%}'.format(rfc_imdb_acc))"
   ]
  },
  {
   "cell_type": "code",
   "execution_count": 11,
   "metadata": {},
   "outputs": [
    {
     "data": {
      "text/plain": [
       "{'max_depth': 8,\n",
       " 'max_features': 'log2',\n",
       " 'min_samples_leaf': 1,\n",
       " 'n_estimators': 30}"
      ]
     },
     "execution_count": 11,
     "metadata": {},
     "output_type": "execute_result"
    }
   ],
   "source": [
    "GS_RFC.best_params_"
   ]
  },
  {
   "cell_type": "code",
   "execution_count": 12,
   "metadata": {
    "scrolled": false
   },
   "outputs": [
    {
     "data": {
      "image/png": "[encoded data removed]",
      "text/plain": [
       "<matplotlib.figure.Figure at 0x1173990b8>"
      ]
     },
     "metadata": {},
     "output_type": "display_data"
    }
   ],
   "source": [
    "GS_RFC.estimator.fit(X_imdb,Y)\n",
    "\n",
    "feat_impt_df = pd.DataFrame(data={'feat':X_imdb.columns,'feat_importance':GS_RFC.estimator.feature_importances_}).sort_values('feat_importance',ascending=False)\n",
    "order = feat_impt_df.feat\n",
    "\n",
    "plt.figure(figsize=(20,10))\n",
    "sns.barplot(x='feat',y='feat_importance',data=feat_impt_df,order=order)\n",
    "plt.xticks(rotation=60)\n",
    "plt.show()"
   ]
  },
  {
   "cell_type": "code",
   "execution_count": 81,
   "metadata": {
    "collapsed": true
   },
   "outputs": [],
   "source": [
    "rfc_imdb_prec = cross_val_score(GS_RFC.best_estimator_,X_imdb,Y,scoring='precision').mean()\n",
    "rfc_imdb_rec = cross_val_score(GS_RFC.best_estimator_,X_imdb,Y,scoring='recall').mean()"
   ]
  },
  {
   "cell_type": "code",
   "execution_count": 82,
   "metadata": {},
   "outputs": [
    {
     "data": {
      "text/html": [
       "<div>\n",
       "<style scoped>\n",
       "    .dataframe tbody tr th:only-of-type {\n",
       "        vertical-align: middle;\n",
       "    }\n",
       "\n",
       "    .dataframe tbody tr th {\n",
       "        vertical-align: top;\n",
       "    }\n",
       "\n",
       "    .dataframe thead th {\n",
       "        text-align: right;\n",
       "    }\n",
       "</style>\n",
       "<table border=\"1\" class=\"dataframe\">\n",
       "  <thead>\n",
       "    <tr style=\"text-align: right;\">\n",
       "      <th></th>\n",
       "      <th>accuracy</th>\n",
       "      <th>precision</th>\n",
       "      <th>recall</th>\n",
       "    </tr>\n",
       "  </thead>\n",
       "  <tbody>\n",
       "    <tr>\n",
       "      <th>Regularized Logistic Regression</th>\n",
       "      <td>0.875380</td>\n",
       "      <td>0.889887</td>\n",
       "      <td>0.805436</td>\n",
       "    </tr>\n",
       "    <tr>\n",
       "      <th>Random Forest Classifier</th>\n",
       "      <td>0.907295</td>\n",
       "      <td>0.880020</td>\n",
       "      <td>0.875012</td>\n",
       "    </tr>\n",
       "  </tbody>\n",
       "</table>\n",
       "</div>"
      ],
      "text/plain": [
       "                                 accuracy  precision    recall\n",
       "Regularized Logistic Regression  0.875380   0.889887  0.805436\n",
       "Random Forest Classifier         0.907295   0.880020  0.875012"
      ]
     },
     "execution_count": 82,
     "metadata": {},
     "output_type": "execute_result"
    }
   ],
   "source": [
    "# Saving results\n",
    "model_comp_imdb.loc['Random Forest Classifier'] = [rfc_imdb_acc,rfc_imdb_prec,rfc_imdb_rec]\n",
    "model_comp_imdb"
   ]
  },
  {
   "cell_type": "code",
   "execution_count": 25,
   "metadata": {
    "collapsed": true
   },
   "outputs": [],
   "source": [
    "X_imdb.to_pickle(\"Extras/best_feat_x_imdb\")"
   ]
  },
  {
   "cell_type": "code",
   "execution_count": 27,
   "metadata": {},
   "outputs": [
    {
     "data": {
      "text/plain": [
       "['Extras/GS_imdb_rfc.pkl']"
      ]
     },
     "execution_count": 27,
     "metadata": {},
     "output_type": "execute_result"
    }
   ],
   "source": [
    "joblib.dump(GS_RFC,\"Extras/GS_imdb_rfc.pkl\")"
   ]
  },
  {
   "cell_type": "markdown",
   "metadata": {},
   "source": [
    "Now trying with different vars (no IMDB information)"
   ]
  },
  {
   "cell_type": "code",
   "execution_count": 85,
   "metadata": {
    "collapsed": true
   },
   "outputs": [],
   "source": [
    "X = pd.concat([pd.get_dummies(no_na[['network_type','country','tvmaze_ep_day','primary_genre']].apply(lambda x: x.astype('O')))\\\n",
    "               ,no_na[['risky_2season','start_year','quarter','month']]],axis=1)"
   ]
  },
  {
   "cell_type": "code",
   "execution_count": 86,
   "metadata": {
    "collapsed": true
   },
   "outputs": [],
   "source": [
    "# Successive gridsearching\n",
    "rf_params = {\n",
    "    'n_estimators':np.arange(25,45,5),\n",
    "    'max_features':['auto','log2','sqrt',None],\n",
    "    'max_depth':np.append(np.array([None]),np.arange(2,11,1)),\n",
    "    'min_samples_leaf':np.arange(1,5),\n",
    "}\n",
    "\n",
    "GS_RFC = GridSearchCV(rfc,param_grid=rf_params,scoring='accuracy',refit=True)"
   ]
  },
  {
   "cell_type": "code",
   "execution_count": 88,
   "metadata": {
    "scrolled": false
   },
   "outputs": [
    {
     "name": "stdout",
     "output_type": "stream",
     "text": [
      "RFC accuracy (grid-searched): 72.64%\n"
     ]
    }
   ],
   "source": [
    "GS_RFC.fit(X,Y)\n",
    "rfc_acc = GS_RFC.best_score_\n",
    "print('RFC accuracy (grid-searched): {0:.2%}'.format(rfc_acc))"
   ]
  },
  {
   "cell_type": "code",
   "execution_count": 89,
   "metadata": {},
   "outputs": [
    {
     "data": {
      "text/plain": [
       "{'max_depth': 6,\n",
       " 'max_features': 'sqrt',\n",
       " 'min_samples_leaf': 4,\n",
       " 'n_estimators': 25}"
      ]
     },
     "execution_count": 89,
     "metadata": {},
     "output_type": "execute_result"
    }
   ],
   "source": [
    "GS_RFC.best_params_"
   ]
  },
  {
   "cell_type": "code",
   "execution_count": 90,
   "metadata": {
    "scrolled": false
   },
   "outputs": [
    {
     "data": {
      "image/png": "[encoded data removed]",
      "text/plain": [
       "<matplotlib.figure.Figure at 0x102939438>"
      ]
     },
     "metadata": {},
     "output_type": "display_data"
    }
   ],
   "source": [
    "GS_RFC.estimator.fit(X,Y)\n",
    "\n",
    "feat_impt_df = pd.DataFrame(data={'feat':X.columns,'feat_importance':GS_RFC.estimator.feature_importances_}).sort_values('feat_importance',ascending=False)\n",
    "order = feat_impt_df.feat\n",
    "\n",
    "plt.figure(figsize=(20,10))\n",
    "sns.barplot(x='feat',y='feat_importance',data=feat_impt_df,order=order)\n",
    "plt.xticks(rotation=60)\n",
    "plt.show()"
   ]
  },
  {
   "cell_type": "code",
   "execution_count": 91,
   "metadata": {},
   "outputs": [
    {
     "data": {
      "text/html": [
       "<div>\n",
       "<style scoped>\n",
       "    .dataframe tbody tr th:only-of-type {\n",
       "        vertical-align: middle;\n",
       "    }\n",
       "\n",
       "    .dataframe tbody tr th {\n",
       "        vertical-align: top;\n",
       "    }\n",
       "\n",
       "    .dataframe thead th {\n",
       "        text-align: right;\n",
       "    }\n",
       "</style>\n",
       "<table border=\"1\" class=\"dataframe\">\n",
       "  <thead>\n",
       "    <tr style=\"text-align: right;\">\n",
       "      <th></th>\n",
       "      <th>accuracy</th>\n",
       "      <th>precision</th>\n",
       "      <th>recall</th>\n",
       "    </tr>\n",
       "  </thead>\n",
       "  <tbody>\n",
       "    <tr>\n",
       "      <th>Regularized Logistic Regression</th>\n",
       "      <td>0.672492</td>\n",
       "      <td>0.615592</td>\n",
       "      <td>0.608964</td>\n",
       "    </tr>\n",
       "    <tr>\n",
       "      <th>Random Forest Classifier</th>\n",
       "      <td>0.726444</td>\n",
       "      <td>0.681582</td>\n",
       "      <td>0.63759</td>\n",
       "    </tr>\n",
       "  </tbody>\n",
       "</table>\n",
       "</div>"
      ],
      "text/plain": [
       "                                 accuracy precision    recall\n",
       "Regularized Logistic Regression  0.672492  0.615592  0.608964\n",
       "Random Forest Classifier         0.726444  0.681582   0.63759"
      ]
     },
     "execution_count": 91,
     "metadata": {},
     "output_type": "execute_result"
    }
   ],
   "source": [
    "#Storing results\n",
    "rfc_prec = cross_val_score(GS_RFC.best_estimator_,X,Y,scoring='precision').mean()\n",
    "rfc_rec = cross_val_score(GS_RFC.best_estimator_,X,Y,scoring='recall').mean()\n",
    "\n",
    "model_comp.loc['Random Forest Classifier'] = [rfc_acc,rfc_prec,rfc_rec]\n",
    "model_comp"
   ]
  },
  {
   "cell_type": "code",
   "execution_count": 92,
   "metadata": {},
   "outputs": [
    {
     "data": {
      "text/plain": [
       "['Extras/GS_rfc.pkl']"
      ]
     },
     "execution_count": 92,
     "metadata": {},
     "output_type": "execute_result"
    }
   ],
   "source": [
    "joblib.dump(GS_RFC,\"Extras/GS_rfc.pkl\")"
   ]
  },
  {
   "cell_type": "markdown",
   "metadata": {},
   "source": [
    "### Gradient Boosting\n",
    "With the IMDB post-premiere data included..."
   ]
  },
  {
   "cell_type": "code",
   "execution_count": 93,
   "metadata": {
    "collapsed": true
   },
   "outputs": [],
   "source": [
    "gbc = GradientBoostingClassifier()"
   ]
  },
  {
   "cell_type": "code",
   "execution_count": 73,
   "metadata": {
    "collapsed": true
   },
   "outputs": [],
   "source": [
    "X_imdb = pd.concat([pd.get_dummies(no_na[['network_type']].apply(lambda x: x.astype('O')))\\\n",
    "               ,no_na[['risky_2season','log_imdb_votes_per_season','imdb_rating','start_year']]],axis=1)\n",
    "Y_imdb = no_na['two_season_cancel']"
   ]
  },
  {
   "cell_type": "code",
   "execution_count": 74,
   "metadata": {
    "collapsed": true
   },
   "outputs": [],
   "source": [
    "# Successive gridsearching\n",
    "gb_params = {\n",
    "    'loss':['deviance','exponential'],\n",
    "    'learning_rate':np.arange(0.1,1,0.1),\n",
    "    'n_estimators':np.arange(20,50,10),\n",
    "    'max_depth':np.append(np.array([None]),np.arange(1,11,1)),\n",
    "}\n",
    "\n",
    "GS_GBC = GridSearchCV(gbc,param_grid=gb_params,scoring='accuracy',refit=True)"
   ]
  },
  {
   "cell_type": "code",
   "execution_count": 75,
   "metadata": {
    "scrolled": true
   },
   "outputs": [
    {
     "name": "stdout",
     "output_type": "stream",
     "text": [
      "GBC accuracy (grid-searched): 90.35%\n"
     ]
    }
   ],
   "source": [
    "GS_GBC.fit(X_imdb,Y_imdb)\n",
    "gbc_imdb_acc = GS_GBC.best_score_\n",
    "print('GBC accuracy (grid-searched): {0:.2%}'.format(gbc_imdb_acc))"
   ]
  },
  {
   "cell_type": "code",
   "execution_count": 71,
   "metadata": {},
   "outputs": [
    {
     "data": {
      "text/plain": [
       "{'learning_rate': 0.30000000000000004,\n",
       " 'loss': 'deviance',\n",
       " 'max_depth': 1,\n",
       " 'n_estimators': 40}"
      ]
     },
     "execution_count": 71,
     "metadata": {},
     "output_type": "execute_result"
    }
   ],
   "source": [
    "GS_GBC.best_params_"
   ]
  },
  {
   "cell_type": "code",
   "execution_count": 329,
   "metadata": {
    "collapsed": true
   },
   "outputs": [],
   "source": [
    "X_imdb = pd.concat([pd.get_dummies(no_na[['network_type','rating_cat','primary_genre','tvmaze_ep_day']].apply(lambda x: x.astype('O')))\\\n",
    "               ,no_na[['risky_2season','log_imdb_votes_per_season','imdb_rating','start_year']]],axis=1)\n",
    "Y_imdb = no_na['two_season_cancel']"
   ]
  },
  {
   "cell_type": "code",
   "execution_count": 330,
   "metadata": {
    "collapsed": true
   },
   "outputs": [],
   "source": [
    "# Successive gridsearching\n",
    "gb_params = {\n",
    "    'loss':['deviance','exponential'],\n",
    "    'learning_rate':np.arange(0.8,1,0.25),\n",
    "    'n_estimators':np.arange(10,40,10),\n",
    "    'max_depth':np.append(np.array([None]),np.arange(1,11,1)),\n",
    "}\n",
    "\n",
    "GS_GBC = GridSearchCV(gbc,param_grid=gb_params,scoring='accuracy')"
   ]
  },
  {
   "cell_type": "markdown",
   "metadata": {},
   "source": [
    "Trying a slightly modified feature set..."
   ]
  },
  {
   "cell_type": "code",
   "execution_count": 97,
   "metadata": {},
   "outputs": [
    {
     "name": "stdout",
     "output_type": "stream",
     "text": [
      "GBC accuracy (grid-searched): 90.35%\n"
     ]
    }
   ],
   "source": [
    "GS_GBC.fit(X_imdb,Y_imdb)\n",
    "gbc_imdb_acc = GS_GBC.best_score_\n",
    "print('GBC accuracy (grid-searched): {0:.2%}'.format(gbc_imdb_acc))"
   ]
  },
  {
   "cell_type": "code",
   "execution_count": 77,
   "metadata": {},
   "outputs": [
    {
     "data": {
      "text/plain": [
       "{'learning_rate': 0.2,\n",
       " 'loss': 'exponential',\n",
       " 'max_depth': 2,\n",
       " 'n_estimators': 20}"
      ]
     },
     "execution_count": 77,
     "metadata": {},
     "output_type": "execute_result"
    }
   ],
   "source": [
    "GS_GBC.best_params_"
   ]
  },
  {
   "cell_type": "code",
   "execution_count": 100,
   "metadata": {
    "scrolled": true
   },
   "outputs": [
    {
     "data": {
      "text/html": [
       "<div>\n",
       "<style scoped>\n",
       "    .dataframe tbody tr th:only-of-type {\n",
       "        vertical-align: middle;\n",
       "    }\n",
       "\n",
       "    .dataframe tbody tr th {\n",
       "        vertical-align: top;\n",
       "    }\n",
       "\n",
       "    .dataframe thead th {\n",
       "        text-align: right;\n",
       "    }\n",
       "</style>\n",
       "<table border=\"1\" class=\"dataframe\">\n",
       "  <thead>\n",
       "    <tr style=\"text-align: right;\">\n",
       "      <th></th>\n",
       "      <th>accuracy</th>\n",
       "      <th>precision</th>\n",
       "      <th>recall</th>\n",
       "    </tr>\n",
       "  </thead>\n",
       "  <tbody>\n",
       "    <tr>\n",
       "      <th>Regularized Logistic Regression</th>\n",
       "      <td>0.875380</td>\n",
       "      <td>0.889887</td>\n",
       "      <td>0.805436</td>\n",
       "    </tr>\n",
       "    <tr>\n",
       "      <th>Random Forest Classifier</th>\n",
       "      <td>0.907295</td>\n",
       "      <td>0.880020</td>\n",
       "      <td>0.875012</td>\n",
       "    </tr>\n",
       "    <tr>\n",
       "      <th>Gradient Boosted Classifier</th>\n",
       "      <td>0.903495</td>\n",
       "      <td>0.892928</td>\n",
       "      <td>0.878577</td>\n",
       "    </tr>\n",
       "  </tbody>\n",
       "</table>\n",
       "</div>"
      ],
      "text/plain": [
       "                                 accuracy  precision    recall\n",
       "Regularized Logistic Regression  0.875380   0.889887  0.805436\n",
       "Random Forest Classifier         0.907295   0.880020  0.875012\n",
       "Gradient Boosted Classifier      0.903495   0.892928  0.878577"
      ]
     },
     "execution_count": 100,
     "metadata": {},
     "output_type": "execute_result"
    }
   ],
   "source": [
    "# Storing results\n",
    "gbc_imdb_prec = cross_val_score(GS_GBC.best_estimator_,X_imdb,Y,scoring='precision').mean()\n",
    "gbc_imdb_rec = cross_val_score(GS_GBC.best_estimator_,X_imdb,Y,scoring='recall').mean()\n",
    "\n",
    "model_comp_imdb.loc['Gradient Boosted Classifier'] = [gbc_imdb_acc,gbc_imdb_prec,gbc_imdb_rec]\n",
    "model_comp_imdb"
   ]
  },
  {
   "cell_type": "code",
   "execution_count": 101,
   "metadata": {},
   "outputs": [
    {
     "data": {
      "text/plain": [
       "['Extras/GS_imdb_GBC.pkl']"
      ]
     },
     "execution_count": 101,
     "metadata": {},
     "output_type": "execute_result"
    }
   ],
   "source": [
    "joblib.dump(GS_GBC,\"Extras/GS_imdb_GBC.pkl\")"
   ]
  },
  {
   "cell_type": "markdown",
   "metadata": {},
   "source": [
    "Now without the IMDB info..."
   ]
  },
  {
   "cell_type": "code",
   "execution_count": 58,
   "metadata": {
    "collapsed": true
   },
   "outputs": [],
   "source": [
    "gbc = GradientBoostingClassifier()"
   ]
  },
  {
   "cell_type": "code",
   "execution_count": 85,
   "metadata": {
    "collapsed": true
   },
   "outputs": [],
   "source": [
    "X = pd.concat([pd.get_dummies(no_na[['network_type','country','tvmaze_ep_day','primary_genre']].apply(lambda x: x.astype('O')))\\\n",
    "               ,no_na[['risky_2season','start_year','quarter','month']]],axis=1)\n",
    "Y = no_na['two_season_cancel']"
   ]
  },
  {
   "cell_type": "code",
   "execution_count": 93,
   "metadata": {
    "collapsed": true
   },
   "outputs": [],
   "source": [
    "# Successive gridsearching\n",
    "gb_params = {\n",
    "    'loss':['deviance','exponential'],\n",
    "    'learning_rate':np.arange(0.1,1,0.1),\n",
    "    'n_estimators':np.arange(30,60,10),\n",
    "    'max_depth':np.append(np.array([None]),np.arange(1,11,1)),\n",
    "}\n",
    "\n",
    "GS_GBC = GridSearchCV(gbc,param_grid=gb_params,scoring='accuracy',refit=True)"
   ]
  },
  {
   "cell_type": "code",
   "execution_count": 94,
   "metadata": {},
   "outputs": [
    {
     "name": "stdout",
     "output_type": "stream",
     "text": [
      "GBC accuracy (grid-searched): 72.87%\n"
     ]
    }
   ],
   "source": [
    "GS_GBC.fit(X,Y)\n",
    "gbc_acc = GS_GBC.best_score_\n",
    "print('GBC accuracy (grid-searched): {0:.2%}'.format(gbc_acc))"
   ]
  },
  {
   "cell_type": "code",
   "execution_count": 42,
   "metadata": {},
   "outputs": [
    {
     "data": {
      "text/plain": [
       "{'learning_rate': 0.1, 'loss': 'deviance', 'max_depth': 2, 'n_estimators': 30}"
      ]
     },
     "execution_count": 42,
     "metadata": {},
     "output_type": "execute_result"
    }
   ],
   "source": [
    "GS_GBC.best_params_"
   ]
  },
  {
   "cell_type": "code",
   "execution_count": 43,
   "metadata": {},
   "outputs": [
    {
     "data": {
      "image/png": "[encoded data removed]",
      "text/plain": [
       "<matplotlib.figure.Figure at 0x1165fc208>"
      ]
     },
     "metadata": {},
     "output_type": "display_data"
    }
   ],
   "source": [
    "GS_GBC.estimator.fit(X,Y)\n",
    "\n",
    "feat_impt_df = pd.DataFrame(data={'feat':X.columns,'feat_importance':GS_GBC.estimator.feature_importances_}).sort_values('feat_importance',ascending=False)\n",
    "order = feat_impt_df.feat\n",
    "\n",
    "plt.figure(figsize=(20,10))\n",
    "sns.barplot(x='feat',y='feat_importance',data=feat_impt_df,order=order)\n",
    "plt.xticks(rotation=60)\n",
    "plt.show()"
   ]
  },
  {
   "cell_type": "code",
   "execution_count": 48,
   "metadata": {},
   "outputs": [
    {
     "data": {
      "text/plain": [
       "Index(['network_type_basic_cable', 'network_type_broadcast',\n",
       "       'network_type_premium_cable', 'network_type_streaming',\n",
       "       'country_Canada', 'country_Multiple', 'country_Other International',\n",
       "       'country_UK', 'country_USA', 'tvmaze_ep_day_Friday',\n",
       "       'tvmaze_ep_day_Monday', 'tvmaze_ep_day_Multiple',\n",
       "       'tvmaze_ep_day_Saturday', 'tvmaze_ep_day_Sunday',\n",
       "       'tvmaze_ep_day_Thursday', 'tvmaze_ep_day_Tuesday',\n",
       "       'tvmaze_ep_day_Wednesday', 'primary_genre_Comedy',\n",
       "       'primary_genre_Drama', 'primary_genre_Game Show',\n",
       "       'primary_genre_Reality', 'primary_genre_Sci-fi', 'primary_genre_Talk',\n",
       "       'risky_2season', 'start_year', 'quarter', 'month'],\n",
       "      dtype='object')"
      ]
     },
     "execution_count": 48,
     "metadata": {},
     "output_type": "execute_result"
    }
   ],
   "source": [
    "X.columns"
   ]
  },
  {
   "cell_type": "code",
   "execution_count": 44,
   "metadata": {
    "scrolled": true
   },
   "outputs": [
    {
     "data": {
      "text/html": [
       "<div>\n",
       "<style scoped>\n",
       "    .dataframe tbody tr th:only-of-type {\n",
       "        vertical-align: middle;\n",
       "    }\n",
       "\n",
       "    .dataframe tbody tr th {\n",
       "        vertical-align: top;\n",
       "    }\n",
       "\n",
       "    .dataframe thead th {\n",
       "        text-align: right;\n",
       "    }\n",
       "</style>\n",
       "<table border=\"1\" class=\"dataframe\">\n",
       "  <thead>\n",
       "    <tr style=\"text-align: right;\">\n",
       "      <th></th>\n",
       "      <th>accuracy</th>\n",
       "      <th>precision</th>\n",
       "      <th>recall</th>\n",
       "    </tr>\n",
       "  </thead>\n",
       "  <tbody>\n",
       "    <tr>\n",
       "      <th>Regularized Logistic Regression</th>\n",
       "      <td>0.672492</td>\n",
       "      <td>0.615592</td>\n",
       "      <td>0.608964</td>\n",
       "    </tr>\n",
       "    <tr>\n",
       "      <th>Random Forest Classifier</th>\n",
       "      <td>0.726444</td>\n",
       "      <td>0.681582</td>\n",
       "      <td>0.63759</td>\n",
       "    </tr>\n",
       "    <tr>\n",
       "      <th>Gradient Boosted Classifier</th>\n",
       "      <td>0.728723</td>\n",
       "      <td>0.689536</td>\n",
       "      <td>0.659029</td>\n",
       "    </tr>\n",
       "    <tr>\n",
       "      <th>SVM Classifier</th>\n",
       "      <td>0.723404</td>\n",
       "      <td>0.678964</td>\n",
       "      <td>0.664367</td>\n",
       "    </tr>\n",
       "  </tbody>\n",
       "</table>\n",
       "</div>"
      ],
      "text/plain": [
       "                                 accuracy precision    recall\n",
       "Regularized Logistic Regression  0.672492  0.615592  0.608964\n",
       "Random Forest Classifier         0.726444  0.681582   0.63759\n",
       "Gradient Boosted Classifier      0.728723  0.689536  0.659029\n",
       "SVM Classifier                   0.723404  0.678964  0.664367"
      ]
     },
     "execution_count": 44,
     "metadata": {},
     "output_type": "execute_result"
    }
   ],
   "source": [
    "#Storing results\n",
    "gbc_prec = cross_val_score(GS_GBC.best_estimator_,X,Y,scoring='precision').mean()\n",
    "gbc_rec = cross_val_score(GS_GBC.best_estimator_,X,Y,scoring='recall').mean()\n",
    "\n",
    "model_comp.loc['Gradient Boosted Classifier'] = [gbc_acc,gbc_prec,gbc_rec]\n",
    "model_comp"
   ]
  },
  {
   "cell_type": "code",
   "execution_count": 124,
   "metadata": {},
   "outputs": [
    {
     "data": {
      "text/plain": [
       "['Extras/GS_GBC.pkl']"
      ]
     },
     "execution_count": 124,
     "metadata": {},
     "output_type": "execute_result"
    }
   ],
   "source": [
    "joblib.dump(GS_GBC,\"Extras/GS_GBC.pkl\")"
   ]
  },
  {
   "cell_type": "code",
   "execution_count": 4,
   "metadata": {
    "collapsed": true
   },
   "outputs": [],
   "source": [
    "X.to_pickle(\"Extras/best_feat_x\")\n",
    "Y.to_pickle(\"Extras/y\")"
   ]
  },
  {
   "cell_type": "markdown",
   "metadata": {},
   "source": [
    "### SVM\n",
    "With the IMDB information..."
   ]
  },
  {
   "cell_type": "code",
   "execution_count": 128,
   "metadata": {
    "collapsed": true
   },
   "outputs": [],
   "source": [
    "svc = SVC()"
   ]
  },
  {
   "cell_type": "code",
   "execution_count": 129,
   "metadata": {
    "collapsed": true,
    "scrolled": true
   },
   "outputs": [],
   "source": [
    "from sklearn.preprocessing import MinMaxScaler\n",
    "\n",
    "# Scaling/normalization required for SVM to function correctly\n",
    "X_imdb = pd.concat([pd.get_dummies(no_na[['network_type','country','tvmaze_ep_day','primary_genre','rating_cat']].apply(lambda x: x.astype('O'))).reset_index(drop=True)\\\n",
    "               ,no_na[['risky_2season','start_year','imdb_rating','log_imdb_votes_per_season']].reset_index(drop=True)\\\n",
    "           ,pd.DataFrame(MinMaxScaler().fit_transform(no_na[['quarter','month']])\\\n",
    "                         ,columns=['quarter','month'])],axis=1)\n",
    "Y = no_na['two_season_cancel']"
   ]
  },
  {
   "cell_type": "code",
   "execution_count": 130,
   "metadata": {
    "collapsed": true
   },
   "outputs": [],
   "source": [
    "# Successive gridsearching\n",
    "svc_params = {\n",
    "    'C':np.power(10,np.arange(-2,2).astype(float)),\n",
    "    'kernel':['rbf']\n",
    "}\n",
    "\n",
    "GS_SVC = GridSearchCV(svc,param_grid=svc_params,scoring='accuracy',refit=True)"
   ]
  },
  {
   "cell_type": "code",
   "execution_count": 131,
   "metadata": {
    "scrolled": true
   },
   "outputs": [
    {
     "name": "stdout",
     "output_type": "stream",
     "text": [
      "SVC accuracy (grid-searched): 90.43%\n"
     ]
    }
   ],
   "source": [
    "GS_SVC.fit(X_imdb,Y)\n",
    "svc_imdb_acc = GS_SVC.best_score_\n",
    "print('SVC accuracy (grid-searched): {0:.2%}'.format(svc_imdb_acc))"
   ]
  },
  {
   "cell_type": "code",
   "execution_count": 132,
   "metadata": {},
   "outputs": [
    {
     "data": {
      "text/plain": [
       "{'C': 10.0, 'kernel': 'rbf'}"
      ]
     },
     "execution_count": 132,
     "metadata": {},
     "output_type": "execute_result"
    }
   ],
   "source": [
    "GS_SVC.best_params_"
   ]
  },
  {
   "cell_type": "code",
   "execution_count": 133,
   "metadata": {},
   "outputs": [
    {
     "data": {
      "text/html": [
       "<div>\n",
       "<style scoped>\n",
       "    .dataframe tbody tr th:only-of-type {\n",
       "        vertical-align: middle;\n",
       "    }\n",
       "\n",
       "    .dataframe tbody tr th {\n",
       "        vertical-align: top;\n",
       "    }\n",
       "\n",
       "    .dataframe thead th {\n",
       "        text-align: right;\n",
       "    }\n",
       "</style>\n",
       "<table border=\"1\" class=\"dataframe\">\n",
       "  <thead>\n",
       "    <tr style=\"text-align: right;\">\n",
       "      <th></th>\n",
       "      <th>accuracy</th>\n",
       "      <th>precision</th>\n",
       "      <th>recall</th>\n",
       "    </tr>\n",
       "  </thead>\n",
       "  <tbody>\n",
       "    <tr>\n",
       "      <th>Regularized Logistic Regression</th>\n",
       "      <td>0.875380</td>\n",
       "      <td>0.889887</td>\n",
       "      <td>0.805436</td>\n",
       "    </tr>\n",
       "    <tr>\n",
       "      <th>Random Forest Classifier</th>\n",
       "      <td>0.907295</td>\n",
       "      <td>0.880020</td>\n",
       "      <td>0.875012</td>\n",
       "    </tr>\n",
       "    <tr>\n",
       "      <th>Gradient Boosted Classifier</th>\n",
       "      <td>0.903495</td>\n",
       "      <td>0.892928</td>\n",
       "      <td>0.878577</td>\n",
       "    </tr>\n",
       "    <tr>\n",
       "      <th>SVM Classifier</th>\n",
       "      <td>0.904255</td>\n",
       "      <td>0.893174</td>\n",
       "      <td>0.880398</td>\n",
       "    </tr>\n",
       "  </tbody>\n",
       "</table>\n",
       "</div>"
      ],
      "text/plain": [
       "                                 accuracy  precision    recall\n",
       "Regularized Logistic Regression  0.875380   0.889887  0.805436\n",
       "Random Forest Classifier         0.907295   0.880020  0.875012\n",
       "Gradient Boosted Classifier      0.903495   0.892928  0.878577\n",
       "SVM Classifier                   0.904255   0.893174  0.880398"
      ]
     },
     "execution_count": 133,
     "metadata": {},
     "output_type": "execute_result"
    }
   ],
   "source": [
    "# Storing results\n",
    "svc_imdb_prec = cross_val_score(GS_SVC.best_estimator_,X_imdb,Y,scoring='precision').mean()\n",
    "svc_imdb_rec = cross_val_score(GS_SVC.best_estimator_,X_imdb,Y,scoring='recall').mean()\n",
    "\n",
    "model_comp_imdb.loc['SVM Classifier'] = [svc_imdb_acc,svc_imdb_prec,svc_imdb_rec]\n",
    "model_comp_imdb"
   ]
  },
  {
   "cell_type": "code",
   "execution_count": 134,
   "metadata": {},
   "outputs": [
    {
     "data": {
      "text/plain": [
       "['Extras/GS_imdb_SVC.pkl']"
      ]
     },
     "execution_count": 134,
     "metadata": {},
     "output_type": "execute_result"
    }
   ],
   "source": [
    "joblib.dump(GS_SVC,\"Extras/GS_imdb_SVC.pkl\")"
   ]
  },
  {
   "cell_type": "code",
   "execution_count": 135,
   "metadata": {
    "collapsed": true
   },
   "outputs": [],
   "source": [
    "model_comp_imdb.to_pickle(\"Extras/model_comp_imdb.pkl\")"
   ]
  },
  {
   "cell_type": "markdown",
   "metadata": {},
   "source": [
    "Without the IMDB information...."
   ]
  },
  {
   "cell_type": "code",
   "execution_count": 161,
   "metadata": {
    "collapsed": true
   },
   "outputs": [],
   "source": [
    "svc = SVC()"
   ]
  },
  {
   "cell_type": "code",
   "execution_count": 162,
   "metadata": {
    "collapsed": true,
    "scrolled": true
   },
   "outputs": [],
   "source": [
    "from sklearn.preprocessing import MinMaxScaler\n",
    "\n",
    "# Scaling/normalization required for SVM to function correctly\n",
    "X = pd.concat([pd.get_dummies(no_na[['network_type','country','tvmaze_ep_day','primary_genre']].apply(lambda x: x.astype('O'))).reset_index(drop=True)\\\n",
    "               ,no_na[['risky_2season','start_year']].reset_index(drop=True)\\\n",
    "           ,pd.DataFrame(MinMaxScaler().fit_transform(no_na[['quarter','month']])\\\n",
    "                         ,columns=['quarter','month'])],axis=1)\n",
    "Y = no_na['two_season_cancel']"
   ]
  },
  {
   "cell_type": "code",
   "execution_count": 163,
   "metadata": {
    "collapsed": true
   },
   "outputs": [],
   "source": [
    "# Successive gridsearching\n",
    "svc_params = {\n",
    "    'C':np.power(10,np.arange(-2,2).astype(float)),\n",
    "    'kernel':['rbf']\n",
    "}\n",
    "\n",
    "GS_SVC = GridSearchCV(svc,param_grid=svc_params,scoring='accuracy',refit=True)"
   ]
  },
  {
   "cell_type": "code",
   "execution_count": 164,
   "metadata": {
    "scrolled": true
   },
   "outputs": [
    {
     "name": "stdout",
     "output_type": "stream",
     "text": [
      "SVC accuracy (grid-searched): 72.34%\n"
     ]
    }
   ],
   "source": [
    "GS_SVC.fit(X,Y)\n",
    "svc_acc = GS_SVC.best_score_\n",
    "print('SVC accuracy (grid-searched): {0:.2%}'.format(svc_acc))"
   ]
  },
  {
   "cell_type": "code",
   "execution_count": 165,
   "metadata": {},
   "outputs": [
    {
     "data": {
      "text/plain": [
       "{'C': 1.0, 'kernel': 'rbf'}"
      ]
     },
     "execution_count": 165,
     "metadata": {},
     "output_type": "execute_result"
    }
   ],
   "source": [
    "GS_SVC.best_params_"
   ]
  },
  {
   "cell_type": "code",
   "execution_count": 166,
   "metadata": {},
   "outputs": [
    {
     "data": {
      "text/html": [
       "<div>\n",
       "<style scoped>\n",
       "    .dataframe tbody tr th:only-of-type {\n",
       "        vertical-align: middle;\n",
       "    }\n",
       "\n",
       "    .dataframe tbody tr th {\n",
       "        vertical-align: top;\n",
       "    }\n",
       "\n",
       "    .dataframe thead th {\n",
       "        text-align: right;\n",
       "    }\n",
       "</style>\n",
       "<table border=\"1\" class=\"dataframe\">\n",
       "  <thead>\n",
       "    <tr style=\"text-align: right;\">\n",
       "      <th></th>\n",
       "      <th>accuracy</th>\n",
       "      <th>precision</th>\n",
       "      <th>recall</th>\n",
       "    </tr>\n",
       "  </thead>\n",
       "  <tbody>\n",
       "    <tr>\n",
       "      <th>Regularized Logistic Regression</th>\n",
       "      <td>0.672492</td>\n",
       "      <td>0.615592</td>\n",
       "      <td>0.608964</td>\n",
       "    </tr>\n",
       "    <tr>\n",
       "      <th>Random Forest Classifier</th>\n",
       "      <td>0.726444</td>\n",
       "      <td>0.681582</td>\n",
       "      <td>0.63759</td>\n",
       "    </tr>\n",
       "    <tr>\n",
       "      <th>Gradient Boosted Classifier</th>\n",
       "      <td>0.728723</td>\n",
       "      <td>0.689536</td>\n",
       "      <td>0.659029</td>\n",
       "    </tr>\n",
       "    <tr>\n",
       "      <th>SVM Classifier</th>\n",
       "      <td>0.723404</td>\n",
       "      <td>0.678964</td>\n",
       "      <td>0.664367</td>\n",
       "    </tr>\n",
       "  </tbody>\n",
       "</table>\n",
       "</div>"
      ],
      "text/plain": [
       "                                 accuracy precision    recall\n",
       "Regularized Logistic Regression  0.672492  0.615592  0.608964\n",
       "Random Forest Classifier         0.726444  0.681582   0.63759\n",
       "Gradient Boosted Classifier      0.728723  0.689536  0.659029\n",
       "SVM Classifier                   0.723404  0.678964  0.664367"
      ]
     },
     "execution_count": 166,
     "metadata": {},
     "output_type": "execute_result"
    }
   ],
   "source": [
    "#Storing results\n",
    "svc_prec = cross_val_score(GS_SVC.best_estimator_,X,Y,scoring='precision').mean()\n",
    "svc_rec = cross_val_score(GS_SVC.best_estimator_,X,Y,scoring='recall').mean()\n",
    "\n",
    "model_comp.loc['SVM Classifier'] = [svc_acc,svc_prec,svc_rec]\n",
    "model_comp"
   ]
  },
  {
   "cell_type": "code",
   "execution_count": 167,
   "metadata": {},
   "outputs": [
    {
     "data": {
      "text/plain": [
       "['Extras/GS_svc.pkl']"
      ]
     },
     "execution_count": 167,
     "metadata": {},
     "output_type": "execute_result"
    }
   ],
   "source": [
    "joblib.dump(GS_SVC,\"Extras/GS_svc.pkl\")"
   ]
  },
  {
   "cell_type": "code",
   "execution_count": 168,
   "metadata": {
    "collapsed": true
   },
   "outputs": [],
   "source": [
    "model_comp.to_pickle(\"Extras/model_comp.pkl\")"
   ]
  },
  {
   "cell_type": "markdown",
   "metadata": {},
   "source": [
    "### Let's see if PCA modifications of our best model type leads to any decrease in overfitting\n",
    "Starting with an arbitrary number of about half of features (15) as the number of components"
   ]
  },
  {
   "cell_type": "code",
   "execution_count": 60,
   "metadata": {
    "collapsed": true
   },
   "outputs": [],
   "source": [
    "gbc = GradientBoostingClassifier()"
   ]
  },
  {
   "cell_type": "code",
   "execution_count": 62,
   "metadata": {
    "collapsed": true
   },
   "outputs": [],
   "source": [
    "X = pd.concat([pd.get_dummies(no_na[['network_type','country','tvmaze_ep_day','primary_genre']].apply(lambda x: x.astype('O')))\\\n",
    "               ,no_na[['risky_2season','start_year','quarter','month']]],axis=1)\n",
    "Y = no_na['two_season_cancel']"
   ]
  },
  {
   "cell_type": "code",
   "execution_count": 63,
   "metadata": {
    "collapsed": true
   },
   "outputs": [],
   "source": [
    "from sklearn.decomposition import PCA\n",
    "from sklearn.preprocessing import StandardScaler\n",
    "\n",
    "X_scaled = StandardScaler().fit_transform(X)\n",
    "pca = PCA(n_components=15)\n",
    "X_pca = pca.fit_transform(X)"
   ]
  },
  {
   "cell_type": "code",
   "execution_count": 64,
   "metadata": {
    "collapsed": true
   },
   "outputs": [],
   "source": [
    "# Successive gridsearching\n",
    "gb_params = {\n",
    "    'loss':['deviance','exponential'],\n",
    "    'learning_rate':np.arange(0.1,1,0.1),\n",
    "    'n_estimators':np.arange(30,60,10),\n",
    "    'max_depth':np.append(np.array([None]),np.arange(1,11,1)),\n",
    "}\n",
    "\n",
    "GS_GBC = GridSearchCV(gbc,param_grid=gb_params,scoring='accuracy',refit=True)"
   ]
  },
  {
   "cell_type": "code",
   "execution_count": 66,
   "metadata": {},
   "outputs": [
    {
     "name": "stdout",
     "output_type": "stream",
     "text": [
      "GBC accuracy (grid-searched): 71.12%\n"
     ]
    }
   ],
   "source": [
    "GS_GBC.fit(X_pca,Y)\n",
    "gbc_acc = GS_GBC.best_score_\n",
    "print('GBC accuracy (grid-searched): {0:.2%}'.format(gbc_acc))"
   ]
  },
  {
   "cell_type": "code",
   "execution_count": 67,
   "metadata": {},
   "outputs": [
    {
     "data": {
      "text/plain": [
       "{'learning_rate': 0.30000000000000004,\n",
       " 'loss': 'deviance',\n",
       " 'max_depth': 1,\n",
       " 'n_estimators': 40}"
      ]
     },
     "execution_count": 67,
     "metadata": {},
     "output_type": "execute_result"
    }
   ],
   "source": [
    "GS_GBC.best_params_"
   ]
  },
  {
   "cell_type": "markdown",
   "metadata": {},
   "source": [
    "No improvement. Let's see if that changes with all possible permutations."
   ]
  },
  {
   "cell_type": "code",
   "execution_count": 76,
   "metadata": {
    "collapsed": true
   },
   "outputs": [],
   "source": [
    "components = np.arange(1,27)\n",
    "avg_scores = []\n",
    "\n",
    "for comp in components:\n",
    "    X_scaled = StandardScaler().fit_transform(X)\n",
    "    pca = PCA(n_components=comp)\n",
    "    X_pca = pca.fit_transform(X)\n",
    "\n",
    "    GS_GBC.fit(X_pca,Y)\n",
    "    gbc_acc = GS_GBC.best_score_\n",
    "    \n",
    "    avg_scores.append(gbc_acc)"
   ]
  },
  {
   "cell_type": "code",
   "execution_count": 69,
   "metadata": {},
   "outputs": [
    {
     "data": {
      "image/png": "[encoded data removed]",
      "text/plain": [
       "<matplotlib.figure.Figure at 0x116288748>"
      ]
     },
     "metadata": {},
     "output_type": "display_data"
    }
   ],
   "source": [
    "plt.plot(components,avg_scores)\n",
    "plt.show()"
   ]
  },
  {
   "cell_type": "markdown",
   "metadata": {},
   "source": [
    "None of these produce an accuracy above 66%, which is quite a bit worse than our 73% without it. Let's avoid using PCA on the original feature set."
   ]
  },
  {
   "cell_type": "markdown",
   "metadata": {},
   "source": [
    "Just messing with Naive Bayes for fun..."
   ]
  },
  {
   "cell_type": "code",
   "execution_count": 78,
   "metadata": {
    "collapsed": true
   },
   "outputs": [],
   "source": [
    "from sklearn.naive_bayes import BernoulliNB"
   ]
  },
  {
   "cell_type": "code",
   "execution_count": 83,
   "metadata": {
    "collapsed": true
   },
   "outputs": [],
   "source": [
    "nb = BernoulliNB(0.5)"
   ]
  },
  {
   "cell_type": "code",
   "execution_count": 84,
   "metadata": {},
   "outputs": [
    {
     "data": {
      "text/plain": [
       "array([0.68109339, 0.64236902, 0.64611872])"
      ]
     },
     "execution_count": 84,
     "metadata": {},
     "output_type": "execute_result"
    }
   ],
   "source": [
    "cross_val_score(nb,X,Y)"
   ]
  }
 ],
 "metadata": {
  "kernelspec": {
   "display_name": "Python 3",
   "language": "python",
   "name": "python3"
  },
  "language_info": {
   "codemirror_mode": {
    "name": "ipython",
    "version": 3
   },
   "file_extension": ".py",
   "mimetype": "text/x-python",
   "name": "python",
   "nbconvert_exporter": "python",
   "pygments_lexer": "ipython3",
   "version": "3.6.3"
  }
 },
 "nbformat": 4,
 "nbformat_minor": 2
}
