{
 "cells": [
  {
   "cell_type": "markdown",
   "metadata": {},
   "source": [
    "In this notebook, we'll be using requests and some custom functions to take the list of shows we got in the previous notebook and search for them in the TVMaze API, returning some additional metadata and the IMDB ID of each show."
   ]
  },
  {
   "cell_type": "code",
   "execution_count": 267,
   "metadata": {
    "collapsed": true
   },
   "outputs": [],
   "source": [
    "import pandas as pd\n",
    "import numpy as np\n",
    "import requests\n",
    "import time\n",
    "import re\n",
    "shows = pd.read_pickle(\"ismyshowcancelled_final.pkl\")"
   ]
  },
  {
   "cell_type": "code",
   "execution_count": 249,
   "metadata": {
    "collapsed": true
   },
   "outputs": [],
   "source": [
    "# Building a requester for the shows we want more information on\n",
    "def show_request(show):\n",
    "    \n",
    "    # proper formatting\n",
    "    show = '-'.join(show.lower().split()).replace(':','')\n",
    "    \n",
    "    # define params for json request\n",
    "    params = {'q':show}#,'embed':'episodes'}\n",
    "\n",
    "    # send request via requests\n",
    "    r = requests.get('http://api.tvmaze.com/singlesearch/shows?',params=params)\n",
    "    \n",
    "    return r"
   ]
  },
  {
   "cell_type": "code",
   "execution_count": 250,
   "metadata": {
    "collapsed": true
   },
   "outputs": [],
   "source": [
    "# Extract the information we want for each show\n",
    "def extract_info(r):\n",
    "    \n",
    "    # Check that the request worked\n",
    "    if r.reason != 'OK':\n",
    "        print('No Matches found for {}'.format(show))\n",
    "        attributes = 7*[np.nan]\n",
    "    \n",
    "    else:\n",
    "        data = r.json()\n",
    "\n",
    "        # Pulling the show info we want\n",
    "        name = data['name']\n",
    "        tv_id = data['id']\n",
    "        imdb = data['externals']['imdb']\n",
    "        prem_date = data['premiered']\n",
    "        rating = data['rating']['average']\n",
    "        runtime = data['runtime']\n",
    "        if len(data['schedule']['days']) == 1: \n",
    "            ep_day = data['schedule']['days'][0]\n",
    "        else: ep_day = 'Multiple'\n",
    "\n",
    "        attributes = [name,tv_id,imdb,prem_date,rating,runtime,ep_day]\n",
    "\n",
    "        return attributes"
   ]
  },
  {
   "cell_type": "code",
   "execution_count": 270,
   "metadata": {
    "scrolled": true
   },
   "outputs": [
    {
     "name": "stdout",
     "output_type": "stream",
     "text": [
      "No Matches found for 24: Live Another Day\n",
      "No Matches found for Extreme Makeover: Weight Loss Edition\n",
      "No Matches found for Lopez Tonight\n",
      "No Matches found for Match Game (2016)\n",
      "No Matches found for Numb3rs (aka Numbers)\n",
      "No Matches found for Panic 911\n",
      "No Matches found for Rock Center with Brian Williams\n",
      "No Matches found for Teach: Tony Danza\n",
      "No Matches found for The $100,000 Pyramid (2016)\n",
      "No Matches found for The Gong Show (2017)\n",
      "No Matches found for The Martha Stewart Show\n",
      "No Matches found for The X-Files (2016)\n",
      "No Matches found for To Tell The Truth (2016)\n",
      "No Matches found for Twin Peaks (2017)\n"
     ]
    }
   ],
   "source": [
    "# Create a dataframe to house this data\n",
    "tvmaze = pd.DataFrame(columns=['name','tv_id','imdb','prem_date','rating','runtime','ep_day'])\n",
    "index = 0\n",
    "\n",
    "# Creating a loop to hopefully get all this show info!\n",
    "for show in shows['title']:\n",
    "    \n",
    "    # Make the request for the show\n",
    "    r = show_request(show)\n",
    "    \n",
    "    # Extract the attributes\n",
    "    attributes = extract_info(r)\n",
    "    \n",
    "    # Add these as an entry in the dataframe (nulls populate if our search wasn't successful)\n",
    "    tvmaze.loc[index] = attributes\n",
    "    \n",
    "    index += 1\n",
    "    \n",
    "    # Sleep for half a second so we don't get \"too many requests\" errors\n",
    "    time.sleep(0.5)"
   ]
  },
  {
   "cell_type": "code",
   "execution_count": 272,
   "metadata": {
    "collapsed": true
   },
   "outputs": [],
   "source": [
    "tvmaze.to_csv(\"tvmaze_tmp_1.csv\")"
   ]
  },
  {
   "cell_type": "code",
   "execution_count": 365,
   "metadata": {},
   "outputs": [
    {
     "data": {
      "text/html": [
       "<div>\n",
       "<style scoped>\n",
       "    .dataframe tbody tr th:only-of-type {\n",
       "        vertical-align: middle;\n",
       "    }\n",
       "\n",
       "    .dataframe tbody tr th {\n",
       "        vertical-align: top;\n",
       "    }\n",
       "\n",
       "    .dataframe thead th {\n",
       "        text-align: right;\n",
       "    }\n",
       "</style>\n",
       "<table border=\"1\" class=\"dataframe\">\n",
       "  <thead>\n",
       "    <tr style=\"text-align: right;\">\n",
       "      <th></th>\n",
       "      <th>name</th>\n",
       "      <th>tv_id</th>\n",
       "      <th>imdb</th>\n",
       "      <th>prem_date</th>\n",
       "      <th>rating</th>\n",
       "      <th>runtime</th>\n",
       "      <th>ep_day</th>\n",
       "    </tr>\n",
       "  </thead>\n",
       "  <tbody>\n",
       "    <tr>\n",
       "      <th>0</th>\n",
       "      <td>$#*! My Dad Says</td>\n",
       "      <td>1986</td>\n",
       "      <td>tt1612578</td>\n",
       "      <td>2010-09-23</td>\n",
       "      <td>6.2</td>\n",
       "      <td>30</td>\n",
       "      <td>Thursday</td>\n",
       "    </tr>\n",
       "    <tr>\n",
       "      <th>1</th>\n",
       "      <td>100 Code</td>\n",
       "      <td>3953</td>\n",
       "      <td>tt3515512</td>\n",
       "      <td>2015-03-11</td>\n",
       "      <td>8.1</td>\n",
       "      <td>60</td>\n",
       "      <td>Wednesday</td>\n",
       "    </tr>\n",
       "    <tr>\n",
       "      <th>2</th>\n",
       "      <td>101 Ways to Leave a Gameshow</td>\n",
       "      <td>12166</td>\n",
       "      <td>tt1702030</td>\n",
       "      <td>2010-07-10</td>\n",
       "      <td>None</td>\n",
       "      <td>60</td>\n",
       "      <td>Saturday</td>\n",
       "    </tr>\n",
       "    <tr>\n",
       "      <th>3</th>\n",
       "      <td>12 Monkeys</td>\n",
       "      <td>614</td>\n",
       "      <td>tt3148266</td>\n",
       "      <td>2015-01-16</td>\n",
       "      <td>7.9</td>\n",
       "      <td>60</td>\n",
       "      <td>Friday</td>\n",
       "    </tr>\n",
       "    <tr>\n",
       "      <th>4</th>\n",
       "      <td>13 Reasons Why</td>\n",
       "      <td>7194</td>\n",
       "      <td>tt1837492</td>\n",
       "      <td>2017-03-31</td>\n",
       "      <td>8.2</td>\n",
       "      <td>60</td>\n",
       "      <td>Friday</td>\n",
       "    </tr>\n",
       "  </tbody>\n",
       "</table>\n",
       "</div>"
      ],
      "text/plain": [
       "                           name  tv_id       imdb   prem_date rating runtime  \\\n",
       "0              $#*! My Dad Says   1986  tt1612578  2010-09-23    6.2      30   \n",
       "1                      100 Code   3953  tt3515512  2015-03-11    8.1      60   \n",
       "2  101 Ways to Leave a Gameshow  12166  tt1702030  2010-07-10   None      60   \n",
       "3                    12 Monkeys    614  tt3148266  2015-01-16    7.9      60   \n",
       "4                13 Reasons Why   7194  tt1837492  2017-03-31    8.2      60   \n",
       "\n",
       "      ep_day  \n",
       "0   Thursday  \n",
       "1  Wednesday  \n",
       "2   Saturday  \n",
       "3     Friday  \n",
       "4     Friday  "
      ]
     },
     "execution_count": 365,
     "metadata": {},
     "output_type": "execute_result"
    }
   ],
   "source": [
    "tvmaze.head()"
   ]
  },
  {
   "cell_type": "code",
   "execution_count": 856,
   "metadata": {
    "collapsed": true
   },
   "outputs": [],
   "source": [
    "tvmaze = pd.read_csv(\"tvmaze_tmp_1.csv\",index_col=0)"
   ]
  },
  {
   "cell_type": "code",
   "execution_count": 857,
   "metadata": {
    "collapsed": true
   },
   "outputs": [],
   "source": [
    "# Shows we need to redo\n",
    "re_search_shows = ['24: Live Another Day',\n",
    " 'Extreme Makeover: Weight Loss Edition',\n",
    " 'Lopez Tonight',\n",
    " 'Match Game (2016)',\n",
    " 'Numb3rs (aka Numbers)',\n",
    " 'Panic 911',\n",
    " 'Rock Center with Brian Williams',\n",
    " 'Teach: Tony Danza',\n",
    " 'The $100,000 Pyramid (2016)',\n",
    " 'The Gong Show (2017)',\n",
    " 'The Martha Stewart Show',\n",
    " 'The X-Files (2016)',\n",
    " 'To Tell The Truth (2016)',\n",
    " 'Twin Peaks (2017)']\n",
    "\n",
    "# Their indices in our original data\n",
    "indices = []\n",
    "for item in re_search_shows:\n",
    "    indices.append(shows[shows['title'] == item].index[0])\n",
    "\n",
    "# Redoing searches with some simple rules to see if it helps\n",
    "new_terms = []\n",
    "for show in re_search_shows:\n",
    "    show = re.sub(r'\\(.*\\)','', show).strip()\n",
    "    new_terms.append(show)\n",
    "    \n",
    "# Changing the pyramid one\n",
    "new_terms[8] = 'the-100000-pyramid'"
   ]
  },
  {
   "cell_type": "code",
   "execution_count": 859,
   "metadata": {
    "scrolled": true
   },
   "outputs": [
    {
     "data": {
      "text/plain": [
       "['24: Live Another Day',\n",
       " 'Extreme Makeover: Weight Loss Edition',\n",
       " 'Lopez Tonight',\n",
       " 'Match Game',\n",
       " 'Numb3rs',\n",
       " 'Panic 911',\n",
       " 'Rock Center with Brian Williams',\n",
       " 'Teach: Tony Danza',\n",
       " 'the-100000-pyramid',\n",
       " 'The Gong Show',\n",
       " 'The Martha Stewart Show',\n",
       " 'The X-Files',\n",
       " 'To Tell The Truth',\n",
       " 'Twin Peaks']"
      ]
     },
     "execution_count": 859,
     "metadata": {},
     "output_type": "execute_result"
    }
   ],
   "source": [
    "new_terms"
   ]
  },
  {
   "cell_type": "markdown",
   "metadata": {},
   "source": [
    "This would probably work better with the above terms. A more surefire way, though, would be to just look up the IMDB IDs for these ten and index off those, just to be safe. This has the added benefit that even if we don't find them in tvmaze, we'll still be able to look up their IMDB information later."
   ]
  },
  {
   "cell_type": "code",
   "execution_count": 869,
   "metadata": {
    "collapsed": true
   },
   "outputs": [],
   "source": [
    "imdb_ids= ['tt1598754',\n",
    " 'tt1713288',\n",
    " 'tt1489432',\n",
    " 'tt5672484',\n",
    " 'tt0433309',\n",
    " 'tt2738058',\n",
    " 'tt2084611',\n",
    " 'tt1442170',\n",
    " 'tt5330088',\n",
    " 'tt6128376',\n",
    " 'tt3450386',\n",
    " 'tt0106179',\n",
    " 'tt5817158',\n",
    " 'tt4093826']"
   ]
  },
  {
   "cell_type": "code",
   "execution_count": 871,
   "metadata": {
    "collapsed": true
   },
   "outputs": [],
   "source": [
    "imdb_dict = {x:y for x,y in zip(imdb_ids,indices)}"
   ]
  },
  {
   "cell_type": "code",
   "execution_count": 872,
   "metadata": {
    "collapsed": true
   },
   "outputs": [],
   "source": [
    "# Building a requester for the shows we want more information on\n",
    "def imdb_request(imdb):\n",
    "    \n",
    "    # define params for json request\n",
    "    params = {'imdb':imdb}\n",
    "\n",
    "    # send request via requests\n",
    "    r = requests.get('http://api.tvmaze.com/lookup/shows?',params=params)\n",
    "    \n",
    "    return r"
   ]
  },
  {
   "cell_type": "code",
   "execution_count": 873,
   "metadata": {
    "collapsed": true
   },
   "outputs": [],
   "source": [
    "# Extract the information we want for each show\n",
    "def extract_imdb_info(r,imdb):\n",
    "    \n",
    "    # Check that the request worked\n",
    "    if r.reason != 'OK':\n",
    "        print('No Matches found for {}'.format(shows.iloc[imdb_dict[imdb_id],:].loc['title']))\n",
    "        attributes = np.array([np.nan,np.nan,imdb,np.nan,np.nan,np.nan,np.nan])\n",
    "        attributes[2] = imdb\n",
    "    \n",
    "    else:\n",
    "        data = r.json()\n",
    "\n",
    "        # Pulling the show info we want\n",
    "        name = data['name']\n",
    "        tv_id = data['id']\n",
    "        imdb = data['externals']['imdb']\n",
    "        prem_date = data['premiered']\n",
    "        rating = data['rating']['average']\n",
    "        runtime = data['runtime']\n",
    "        if len(data['schedule']['days']) == 1: \n",
    "            ep_day = data['schedule']['days'][0]\n",
    "        else: ep_day = 'Multiple'\n",
    "\n",
    "        attributes = [name,tv_id,imdb,prem_date,rating,runtime,ep_day]\n",
    "        print(attributes)\n",
    "        return attributes"
   ]
  },
  {
   "cell_type": "code",
   "execution_count": 874,
   "metadata": {
    "scrolled": true
   },
   "outputs": [
    {
     "data": {
      "text/html": [
       "<div>\n",
       "<style scoped>\n",
       "    .dataframe tbody tr th:only-of-type {\n",
       "        vertical-align: middle;\n",
       "    }\n",
       "\n",
       "    .dataframe tbody tr th {\n",
       "        vertical-align: top;\n",
       "    }\n",
       "\n",
       "    .dataframe thead th {\n",
       "        text-align: right;\n",
       "    }\n",
       "</style>\n",
       "<table border=\"1\" class=\"dataframe\">\n",
       "  <thead>\n",
       "    <tr style=\"text-align: right;\">\n",
       "      <th></th>\n",
       "      <th>imdb</th>\n",
       "      <th>index</th>\n",
       "      <th>re_search_shows</th>\n",
       "    </tr>\n",
       "  </thead>\n",
       "  <tbody>\n",
       "    <tr>\n",
       "      <th>0</th>\n",
       "      <td>tt1598754</td>\n",
       "      <td>12</td>\n",
       "      <td>24: Live Another Day</td>\n",
       "    </tr>\n",
       "    <tr>\n",
       "      <th>1</th>\n",
       "      <td>tt1713288</td>\n",
       "      <td>413</td>\n",
       "      <td>Extreme Makeover: Weight Loss Edition</td>\n",
       "    </tr>\n",
       "    <tr>\n",
       "      <th>2</th>\n",
       "      <td>tt1489432</td>\n",
       "      <td>737</td>\n",
       "      <td>Lopez Tonight</td>\n",
       "    </tr>\n",
       "    <tr>\n",
       "      <th>3</th>\n",
       "      <td>tt5672484</td>\n",
       "      <td>805</td>\n",
       "      <td>Match Game (2016)</td>\n",
       "    </tr>\n",
       "    <tr>\n",
       "      <th>4</th>\n",
       "      <td>tt0433309</td>\n",
       "      <td>890</td>\n",
       "      <td>Numb3rs (aka Numbers)</td>\n",
       "    </tr>\n",
       "    <tr>\n",
       "      <th>5</th>\n",
       "      <td>tt2738058</td>\n",
       "      <td>924</td>\n",
       "      <td>Panic 911</td>\n",
       "    </tr>\n",
       "    <tr>\n",
       "      <th>6</th>\n",
       "      <td>tt2084611</td>\n",
       "      <td>1017</td>\n",
       "      <td>Rock Center with Brian Williams</td>\n",
       "    </tr>\n",
       "    <tr>\n",
       "      <th>7</th>\n",
       "      <td>tt1442170</td>\n",
       "      <td>1189</td>\n",
       "      <td>Teach: Tony Danza</td>\n",
       "    </tr>\n",
       "    <tr>\n",
       "      <th>8</th>\n",
       "      <td>tt5330088</td>\n",
       "      <td>1202</td>\n",
       "      <td>The $100,000 Pyramid (2016)</td>\n",
       "    </tr>\n",
       "    <tr>\n",
       "      <th>9</th>\n",
       "      <td>tt6128376</td>\n",
       "      <td>1289</td>\n",
       "      <td>The Gong Show (2017)</td>\n",
       "    </tr>\n",
       "    <tr>\n",
       "      <th>10</th>\n",
       "      <td>tt3450386</td>\n",
       "      <td>1337</td>\n",
       "      <td>The Martha Stewart Show</td>\n",
       "    </tr>\n",
       "    <tr>\n",
       "      <th>11</th>\n",
       "      <td>tt0106179</td>\n",
       "      <td>1438</td>\n",
       "      <td>The X-Files (2016)</td>\n",
       "    </tr>\n",
       "    <tr>\n",
       "      <th>12</th>\n",
       "      <td>tt5817158</td>\n",
       "      <td>1451</td>\n",
       "      <td>To Tell The Truth (2016)</td>\n",
       "    </tr>\n",
       "    <tr>\n",
       "      <th>13</th>\n",
       "      <td>tt4093826</td>\n",
       "      <td>1482</td>\n",
       "      <td>Twin Peaks (2017)</td>\n",
       "    </tr>\n",
       "  </tbody>\n",
       "</table>\n",
       "</div>"
      ],
      "text/plain": [
       "         imdb  index                        re_search_shows\n",
       "0   tt1598754     12                   24: Live Another Day\n",
       "1   tt1713288    413  Extreme Makeover: Weight Loss Edition\n",
       "2   tt1489432    737                          Lopez Tonight\n",
       "3   tt5672484    805                      Match Game (2016)\n",
       "4   tt0433309    890                  Numb3rs (aka Numbers)\n",
       "5   tt2738058    924                              Panic 911\n",
       "6   tt2084611   1017        Rock Center with Brian Williams\n",
       "7   tt1442170   1189                      Teach: Tony Danza\n",
       "8   tt5330088   1202            The $100,000 Pyramid (2016)\n",
       "9   tt6128376   1289                   The Gong Show (2017)\n",
       "10  tt3450386   1337                The Martha Stewart Show\n",
       "11  tt0106179   1438                     The X-Files (2016)\n",
       "12  tt5817158   1451               To Tell The Truth (2016)\n",
       "13  tt4093826   1482                      Twin Peaks (2017)"
      ]
     },
     "execution_count": 874,
     "metadata": {},
     "output_type": "execute_result"
    }
   ],
   "source": [
    "redo_shows = pd.DataFrame(data={'index':indices,'re_search_shows':re_search_shows,'imdb':imdb_ids})\n",
    "redo_shows"
   ]
  },
  {
   "cell_type": "code",
   "execution_count": 875,
   "metadata": {},
   "outputs": [
    {
     "name": "stdout",
     "output_type": "stream",
     "text": [
      "No Matches found for 24: Live Another Day\n",
      "['Extreme Weight Loss', 877, 'tt1713288', '2011-05-30', None, 120, 'Tuesday']\n",
      "No Matches found for Lopez Tonight\n",
      "No Matches found for Match Game (2016)\n",
      "['Numb3rs', 682, 'tt0433309', '2005-01-23', 8, 60, 'Friday']\n",
      "['Panic 9-1-1', 19907, 'tt2738058', '2012-11-29', None, 60, 'Thursday']\n",
      "No Matches found for Rock Center with Brian Williams\n",
      "No Matches found for Teach: Tony Danza\n",
      "['The $100,000 Pyramid', 11491, 'tt5330088', '2016-06-26', None, 60, 'Sunday']\n",
      "No Matches found for The Gong Show (2017)\n",
      "No Matches found for The Martha Stewart Show\n",
      "['The X-Files', 430, 'tt0106179', '1993-09-10', 8.7, 60, 'Wednesday']\n",
      "No Matches found for To Tell The Truth (2016)\n",
      "No Matches found for Twin Peaks (2017)\n"
     ]
    }
   ],
   "source": [
    "# Let's try to ping for this info!\n",
    "for imdb_id, index in zip(redo_shows['imdb'],redo_shows['index']):\n",
    "    \n",
    "    # Request based on the imdb id\n",
    "    r = imdb_request(imdb_id)\n",
    "    \n",
    "    # Extract from the result, saving the id if we don't get anything back\n",
    "    attributes = extract_imdb_info(r,imdb_id)        \n",
    "    \n",
    "    tvmaze.iloc[index,:] = attributes"
   ]
  },
  {
   "cell_type": "code",
   "execution_count": 912,
   "metadata": {},
   "outputs": [
    {
     "data": {
      "text/html": [
       "<div>\n",
       "<style scoped>\n",
       "    .dataframe tbody tr th:only-of-type {\n",
       "        vertical-align: middle;\n",
       "    }\n",
       "\n",
       "    .dataframe tbody tr th {\n",
       "        vertical-align: top;\n",
       "    }\n",
       "\n",
       "    .dataframe thead th {\n",
       "        text-align: right;\n",
       "    }\n",
       "</style>\n",
       "<table border=\"1\" class=\"dataframe\">\n",
       "  <thead>\n",
       "    <tr style=\"text-align: right;\">\n",
       "      <th></th>\n",
       "      <th>name</th>\n",
       "      <th>tv_id</th>\n",
       "      <th>imdb</th>\n",
       "      <th>prem_date</th>\n",
       "      <th>rating</th>\n",
       "      <th>runtime</th>\n",
       "      <th>ep_day</th>\n",
       "    </tr>\n",
       "  </thead>\n",
       "  <tbody>\n",
       "    <tr>\n",
       "      <th>12</th>\n",
       "      <td>None</td>\n",
       "      <td>NaN</td>\n",
       "      <td>None</td>\n",
       "      <td>None</td>\n",
       "      <td>NaN</td>\n",
       "      <td>NaN</td>\n",
       "      <td>None</td>\n",
       "    </tr>\n",
       "    <tr>\n",
       "      <th>737</th>\n",
       "      <td>None</td>\n",
       "      <td>NaN</td>\n",
       "      <td>None</td>\n",
       "      <td>None</td>\n",
       "      <td>NaN</td>\n",
       "      <td>NaN</td>\n",
       "      <td>None</td>\n",
       "    </tr>\n",
       "    <tr>\n",
       "      <th>805</th>\n",
       "      <td>None</td>\n",
       "      <td>NaN</td>\n",
       "      <td>None</td>\n",
       "      <td>None</td>\n",
       "      <td>NaN</td>\n",
       "      <td>NaN</td>\n",
       "      <td>None</td>\n",
       "    </tr>\n",
       "    <tr>\n",
       "      <th>1017</th>\n",
       "      <td>None</td>\n",
       "      <td>NaN</td>\n",
       "      <td>None</td>\n",
       "      <td>None</td>\n",
       "      <td>NaN</td>\n",
       "      <td>NaN</td>\n",
       "      <td>None</td>\n",
       "    </tr>\n",
       "    <tr>\n",
       "      <th>1189</th>\n",
       "      <td>None</td>\n",
       "      <td>NaN</td>\n",
       "      <td>None</td>\n",
       "      <td>None</td>\n",
       "      <td>NaN</td>\n",
       "      <td>NaN</td>\n",
       "      <td>None</td>\n",
       "    </tr>\n",
       "    <tr>\n",
       "      <th>1289</th>\n",
       "      <td>None</td>\n",
       "      <td>NaN</td>\n",
       "      <td>None</td>\n",
       "      <td>None</td>\n",
       "      <td>NaN</td>\n",
       "      <td>NaN</td>\n",
       "      <td>None</td>\n",
       "    </tr>\n",
       "    <tr>\n",
       "      <th>1337</th>\n",
       "      <td>None</td>\n",
       "      <td>NaN</td>\n",
       "      <td>None</td>\n",
       "      <td>None</td>\n",
       "      <td>NaN</td>\n",
       "      <td>NaN</td>\n",
       "      <td>None</td>\n",
       "    </tr>\n",
       "    <tr>\n",
       "      <th>1451</th>\n",
       "      <td>None</td>\n",
       "      <td>NaN</td>\n",
       "      <td>None</td>\n",
       "      <td>None</td>\n",
       "      <td>NaN</td>\n",
       "      <td>NaN</td>\n",
       "      <td>None</td>\n",
       "    </tr>\n",
       "    <tr>\n",
       "      <th>1482</th>\n",
       "      <td>None</td>\n",
       "      <td>NaN</td>\n",
       "      <td>None</td>\n",
       "      <td>None</td>\n",
       "      <td>NaN</td>\n",
       "      <td>NaN</td>\n",
       "      <td>None</td>\n",
       "    </tr>\n",
       "  </tbody>\n",
       "</table>\n",
       "</div>"
      ],
      "text/plain": [
       "      name  tv_id  imdb prem_date  rating  runtime ep_day\n",
       "12    None    NaN  None      None     NaN      NaN   None\n",
       "737   None    NaN  None      None     NaN      NaN   None\n",
       "805   None    NaN  None      None     NaN      NaN   None\n",
       "1017  None    NaN  None      None     NaN      NaN   None\n",
       "1189  None    NaN  None      None     NaN      NaN   None\n",
       "1289  None    NaN  None      None     NaN      NaN   None\n",
       "1337  None    NaN  None      None     NaN      NaN   None\n",
       "1451  None    NaN  None      None     NaN      NaN   None\n",
       "1482  None    NaN  None      None     NaN      NaN   None"
      ]
     },
     "execution_count": 912,
     "metadata": {},
     "output_type": "execute_result"
    }
   ],
   "source": [
    "tvmaze[(tvmaze['name'].isnull()) & (tvmaze['imdb'].isnull())]"
   ]
  },
  {
   "cell_type": "markdown",
   "metadata": {},
   "source": [
    "Don't quite understand why this isn't at least appending the IMDB IDs. Doing that here..."
   ]
  },
  {
   "cell_type": "code",
   "execution_count": 877,
   "metadata": {},
   "outputs": [
    {
     "name": "stdout",
     "output_type": "stream",
     "text": [
      "12 tt1598754\n",
      "413 tt1713288\n",
      "737 tt1489432\n",
      "805 tt5672484\n",
      "890 tt0433309\n",
      "924 tt2738058\n",
      "1017 tt2084611\n",
      "1189 tt1442170\n",
      "1202 tt5330088\n",
      "1289 tt6128376\n",
      "1337 tt3450386\n",
      "1438 tt0106179\n",
      "1451 tt5817158\n",
      "1482 tt4093826\n"
     ]
    }
   ],
   "source": [
    "for imdb,index in zip(redo_shows['imdb'],redo_shows['index']):\n",
    "    print(index,imdb)"
   ]
  },
  {
   "cell_type": "code",
   "execution_count": 928,
   "metadata": {
    "scrolled": true
   },
   "outputs": [
    {
     "name": "stderr",
     "output_type": "stream",
     "text": [
      "/usr/local/lib/python3.6/site-packages/pandas/core/indexing.py:194: SettingWithCopyWarning: \n",
      "A value is trying to be set on a copy of a slice from a DataFrame\n",
      "\n",
      "See the caveats in the documentation: http://pandas.pydata.org/pandas-docs/stable/indexing.html#indexing-view-versus-copy\n",
      "  self._setitem_with_indexer(indexer, value)\n"
     ]
    }
   ],
   "source": [
    "for imdb,index in zip(redo_shows.copy()['imdb'],redo_shows.copy()['index']):\n",
    "    tvmaze.loc[:,'imdb'].iloc[index] = imdb"
   ]
  },
  {
   "cell_type": "code",
   "execution_count": 937,
   "metadata": {},
   "outputs": [
    {
     "data": {
      "text/plain": [
       "'tt2738058'"
      ]
     },
     "execution_count": 937,
     "metadata": {},
     "output_type": "execute_result"
    }
   ],
   "source": [
    "tvmaze.loc[:,'imdb'].iloc[924]"
   ]
  },
  {
   "cell_type": "code",
   "execution_count": 935,
   "metadata": {},
   "outputs": [
    {
     "data": {
      "text/html": [
       "<div>\n",
       "<style scoped>\n",
       "    .dataframe tbody tr th:only-of-type {\n",
       "        vertical-align: middle;\n",
       "    }\n",
       "\n",
       "    .dataframe tbody tr th {\n",
       "        vertical-align: top;\n",
       "    }\n",
       "\n",
       "    .dataframe thead th {\n",
       "        text-align: right;\n",
       "    }\n",
       "</style>\n",
       "<table border=\"1\" class=\"dataframe\">\n",
       "  <thead>\n",
       "    <tr style=\"text-align: right;\">\n",
       "      <th></th>\n",
       "      <th>name</th>\n",
       "      <th>tv_id</th>\n",
       "      <th>imdb</th>\n",
       "      <th>prem_date</th>\n",
       "      <th>rating</th>\n",
       "      <th>runtime</th>\n",
       "      <th>ep_day</th>\n",
       "    </tr>\n",
       "  </thead>\n",
       "  <tbody>\n",
       "  </tbody>\n",
       "</table>\n",
       "</div>"
      ],
      "text/plain": [
       "Empty DataFrame\n",
       "Columns: [name, tv_id, imdb, prem_date, rating, runtime, ep_day]\n",
       "Index: []"
      ]
     },
     "execution_count": 935,
     "metadata": {},
     "output_type": "execute_result"
    }
   ],
   "source": [
    "tvmaze[(tvmaze['name'].isnull()) & (tvmaze['imdb'].isnull())]"
   ]
  },
  {
   "cell_type": "code",
   "execution_count": 938,
   "metadata": {
    "collapsed": true
   },
   "outputs": [],
   "source": [
    "tvmaze.to_csv(\"tvmaze_tmp_2.csv\")"
   ]
  },
  {
   "cell_type": "markdown",
   "metadata": {},
   "source": [
    "Phew, okay now we at least have an IMDB ID or tvmaze supplemental information for each show. Let's do one last pass with the cleaned show names we abandoned earlier."
   ]
  },
  {
   "cell_type": "code",
   "execution_count": 946,
   "metadata": {
    "scrolled": false
   },
   "outputs": [
    {
     "data": {
      "text/plain": [
       "{'24: Live Another Day': 12,\n",
       " 'Lopez Tonight': 737,\n",
       " 'Match Game': 805,\n",
       " 'Rock Center with Brian Williams': 1017,\n",
       " 'Teach: Tony Danza': 1189,\n",
       " 'The Gong Show': 1289,\n",
       " 'The Martha Stewart Show': 1337,\n",
       " 'To Tell The Truth': 1451,\n",
       " 'Twin Peaks': 1482}"
      ]
     },
     "execution_count": 946,
     "metadata": {},
     "output_type": "execute_result"
    }
   ],
   "source": [
    "new_show_dict = {x:y for x,y in zip(new_terms,indices)}\n",
    "for item in ['Panic 911','Extreme Makeover: Weight Loss Edition','Numb3rs','the-100000-pyramid','The X-Files']:\n",
    "    new_show_dict.pop(item)\n",
    "new_show_dict"
   ]
  },
  {
   "cell_type": "markdown",
   "metadata": {},
   "source": [
    "We have values for Extreme Weight Loss, Numb3rs, Panic 911, 100k pyramid, and x files, so we won't iterate over those again"
   ]
  },
  {
   "cell_type": "code",
   "execution_count": 947,
   "metadata": {
    "scrolled": true
   },
   "outputs": [
    {
     "data": {
      "text/plain": [
       "name         Panic 9-1-1\n",
       "tv_id              19907\n",
       "prem_date     2012-11-29\n",
       "rating               NaN\n",
       "runtime               60\n",
       "ep_day          Thursday\n",
       "Name: 924, dtype: object"
      ]
     },
     "execution_count": 947,
     "metadata": {},
     "output_type": "execute_result"
    }
   ],
   "source": [
    "tvmaze.loc[:, tvmaze.columns != 'imdb'].iloc[924]"
   ]
  },
  {
   "cell_type": "code",
   "execution_count": 949,
   "metadata": {},
   "outputs": [
    {
     "name": "stdout",
     "output_type": "stream",
     "text": [
      "No Matches found for 24: Live Another Day\n",
      "No Matches found for Lopez Tonight\n",
      "['Match Game', 16694, None, '2016-06-26', None, 60, 'Thursday']\n",
      "No Matches found for Rock Center with Brian Williams\n",
      "No Matches found for Teach: Tony Danza\n",
      "['The Gong Show', 21746, None, '2017-06-22', 5, 60, 'Thursday']\n",
      "No Matches found for The Martha Stewart Show\n",
      "['To Tell the Truth', 16041, None, '2016-06-14', None, 60, 'Monday']\n",
      "['Twin Peaks', 156, 'tt0098936', '1990-04-08', 8.2, 60, 'Sunday']\n"
     ]
    }
   ],
   "source": [
    "# Creating a loop to hopefully get all this show info!\n",
    "for show,index in new_show_dict.items():\n",
    "    \n",
    "    # Make the request for the show\n",
    "    r = show_request(show)\n",
    "    \n",
    "    # Extract the attributes\n",
    "    attributes = extract_info(r)\n",
    "    \n",
    "    # Making sure IMDB id is not overwritten\n",
    "    if attributes is not None:\n",
    "        #attributes = [x for i,x in enumerate(attributes) if i!=2]\n",
    "        print(attributes)"
   ]
  },
  {
   "cell_type": "markdown",
   "metadata": {},
   "source": [
    "Cool, four more matches. I'll do this manually since I'm having trouble not overriding the preexisting IMDB IDs that we've independently collected and verified."
   ]
  },
  {
   "cell_type": "code",
   "execution_count": 951,
   "metadata": {},
   "outputs": [
    {
     "data": {
      "text/html": [
       "<div>\n",
       "<style scoped>\n",
       "    .dataframe tbody tr th:only-of-type {\n",
       "        vertical-align: middle;\n",
       "    }\n",
       "\n",
       "    .dataframe tbody tr th {\n",
       "        vertical-align: top;\n",
       "    }\n",
       "\n",
       "    .dataframe thead th {\n",
       "        text-align: right;\n",
       "    }\n",
       "</style>\n",
       "<table border=\"1\" class=\"dataframe\">\n",
       "  <thead>\n",
       "    <tr style=\"text-align: right;\">\n",
       "      <th></th>\n",
       "      <th>imdb</th>\n",
       "      <th>index</th>\n",
       "      <th>re_search_shows</th>\n",
       "    </tr>\n",
       "  </thead>\n",
       "  <tbody>\n",
       "    <tr>\n",
       "      <th>0</th>\n",
       "      <td>tt1598754</td>\n",
       "      <td>12</td>\n",
       "      <td>24: Live Another Day</td>\n",
       "    </tr>\n",
       "    <tr>\n",
       "      <th>1</th>\n",
       "      <td>tt1713288</td>\n",
       "      <td>413</td>\n",
       "      <td>Extreme Makeover: Weight Loss Edition</td>\n",
       "    </tr>\n",
       "    <tr>\n",
       "      <th>2</th>\n",
       "      <td>tt1489432</td>\n",
       "      <td>737</td>\n",
       "      <td>Lopez Tonight</td>\n",
       "    </tr>\n",
       "    <tr>\n",
       "      <th>3</th>\n",
       "      <td>tt5672484</td>\n",
       "      <td>805</td>\n",
       "      <td>Match Game (2016)</td>\n",
       "    </tr>\n",
       "    <tr>\n",
       "      <th>4</th>\n",
       "      <td>tt0433309</td>\n",
       "      <td>890</td>\n",
       "      <td>Numb3rs (aka Numbers)</td>\n",
       "    </tr>\n",
       "    <tr>\n",
       "      <th>5</th>\n",
       "      <td>tt2738058</td>\n",
       "      <td>924</td>\n",
       "      <td>Panic 911</td>\n",
       "    </tr>\n",
       "    <tr>\n",
       "      <th>6</th>\n",
       "      <td>tt2084611</td>\n",
       "      <td>1017</td>\n",
       "      <td>Rock Center with Brian Williams</td>\n",
       "    </tr>\n",
       "    <tr>\n",
       "      <th>7</th>\n",
       "      <td>tt1442170</td>\n",
       "      <td>1189</td>\n",
       "      <td>Teach: Tony Danza</td>\n",
       "    </tr>\n",
       "    <tr>\n",
       "      <th>8</th>\n",
       "      <td>tt5330088</td>\n",
       "      <td>1202</td>\n",
       "      <td>The $100,000 Pyramid (2016)</td>\n",
       "    </tr>\n",
       "    <tr>\n",
       "      <th>9</th>\n",
       "      <td>tt6128376</td>\n",
       "      <td>1289</td>\n",
       "      <td>The Gong Show (2017)</td>\n",
       "    </tr>\n",
       "    <tr>\n",
       "      <th>10</th>\n",
       "      <td>tt3450386</td>\n",
       "      <td>1337</td>\n",
       "      <td>The Martha Stewart Show</td>\n",
       "    </tr>\n",
       "    <tr>\n",
       "      <th>11</th>\n",
       "      <td>tt0106179</td>\n",
       "      <td>1438</td>\n",
       "      <td>The X-Files (2016)</td>\n",
       "    </tr>\n",
       "    <tr>\n",
       "      <th>12</th>\n",
       "      <td>tt5817158</td>\n",
       "      <td>1451</td>\n",
       "      <td>To Tell The Truth (2016)</td>\n",
       "    </tr>\n",
       "    <tr>\n",
       "      <th>13</th>\n",
       "      <td>tt4093826</td>\n",
       "      <td>1482</td>\n",
       "      <td>Twin Peaks (2017)</td>\n",
       "    </tr>\n",
       "  </tbody>\n",
       "</table>\n",
       "</div>"
      ],
      "text/plain": [
       "         imdb  index                        re_search_shows\n",
       "0   tt1598754     12                   24: Live Another Day\n",
       "1   tt1713288    413  Extreme Makeover: Weight Loss Edition\n",
       "2   tt1489432    737                          Lopez Tonight\n",
       "3   tt5672484    805                      Match Game (2016)\n",
       "4   tt0433309    890                  Numb3rs (aka Numbers)\n",
       "5   tt2738058    924                              Panic 911\n",
       "6   tt2084611   1017        Rock Center with Brian Williams\n",
       "7   tt1442170   1189                      Teach: Tony Danza\n",
       "8   tt5330088   1202            The $100,000 Pyramid (2016)\n",
       "9   tt6128376   1289                   The Gong Show (2017)\n",
       "10  tt3450386   1337                The Martha Stewart Show\n",
       "11  tt0106179   1438                     The X-Files (2016)\n",
       "12  tt5817158   1451               To Tell The Truth (2016)\n",
       "13  tt4093826   1482                      Twin Peaks (2017)"
      ]
     },
     "execution_count": 951,
     "metadata": {},
     "output_type": "execute_result"
    }
   ],
   "source": [
    "redo_shows"
   ]
  },
  {
   "cell_type": "code",
   "execution_count": 966,
   "metadata": {
    "collapsed": true
   },
   "outputs": [],
   "source": [
    "tvmaze.iloc[805] = ['Match Game', 16694, 'tt5672484', '2016-06-26', None, 60, 'Thursday']\n",
    "tvmaze.iloc[1289] = ['The Gong Show', 21746, 'tt6128376', '2017-06-22', 5, 60, 'Thursday']\n",
    "tvmaze.iloc[1451] = ['To Tell the Truth', 16041, 'tt5817158', '2016-06-14', None, 60, 'Monday']\n",
    "# Manually changing this to just go with the newer version of Twin Peaks\n",
    "tvmaze.iloc[1482] = ['Twin Peaks', 156, 'tt4093826', '1990-04-08', 8.2, 60, 'Sunday']"
   ]
  },
  {
   "cell_type": "code",
   "execution_count": 969,
   "metadata": {},
   "outputs": [
    {
     "data": {
      "text/html": [
       "<div>\n",
       "<style scoped>\n",
       "    .dataframe tbody tr th:only-of-type {\n",
       "        vertical-align: middle;\n",
       "    }\n",
       "\n",
       "    .dataframe tbody tr th {\n",
       "        vertical-align: top;\n",
       "    }\n",
       "\n",
       "    .dataframe thead th {\n",
       "        text-align: right;\n",
       "    }\n",
       "</style>\n",
       "<table border=\"1\" class=\"dataframe\">\n",
       "  <thead>\n",
       "    <tr style=\"text-align: right;\">\n",
       "      <th></th>\n",
       "      <th>name</th>\n",
       "      <th>tv_id</th>\n",
       "      <th>imdb</th>\n",
       "      <th>prem_date</th>\n",
       "      <th>rating</th>\n",
       "      <th>runtime</th>\n",
       "      <th>ep_day</th>\n",
       "    </tr>\n",
       "  </thead>\n",
       "  <tbody>\n",
       "    <tr>\n",
       "      <th>12</th>\n",
       "      <td>None</td>\n",
       "      <td>NaN</td>\n",
       "      <td>tt1598754</td>\n",
       "      <td>None</td>\n",
       "      <td>NaN</td>\n",
       "      <td>NaN</td>\n",
       "      <td>None</td>\n",
       "    </tr>\n",
       "    <tr>\n",
       "      <th>737</th>\n",
       "      <td>None</td>\n",
       "      <td>NaN</td>\n",
       "      <td>tt1489432</td>\n",
       "      <td>None</td>\n",
       "      <td>NaN</td>\n",
       "      <td>NaN</td>\n",
       "      <td>None</td>\n",
       "    </tr>\n",
       "    <tr>\n",
       "      <th>1017</th>\n",
       "      <td>None</td>\n",
       "      <td>NaN</td>\n",
       "      <td>tt2084611</td>\n",
       "      <td>None</td>\n",
       "      <td>NaN</td>\n",
       "      <td>NaN</td>\n",
       "      <td>None</td>\n",
       "    </tr>\n",
       "    <tr>\n",
       "      <th>1189</th>\n",
       "      <td>None</td>\n",
       "      <td>NaN</td>\n",
       "      <td>tt1442170</td>\n",
       "      <td>None</td>\n",
       "      <td>NaN</td>\n",
       "      <td>NaN</td>\n",
       "      <td>None</td>\n",
       "    </tr>\n",
       "    <tr>\n",
       "      <th>1337</th>\n",
       "      <td>None</td>\n",
       "      <td>NaN</td>\n",
       "      <td>tt3450386</td>\n",
       "      <td>None</td>\n",
       "      <td>NaN</td>\n",
       "      <td>NaN</td>\n",
       "      <td>None</td>\n",
       "    </tr>\n",
       "  </tbody>\n",
       "</table>\n",
       "</div>"
      ],
      "text/plain": [
       "      name  tv_id       imdb prem_date  rating  runtime ep_day\n",
       "12    None    NaN  tt1598754      None     NaN      NaN   None\n",
       "737   None    NaN  tt1489432      None     NaN      NaN   None\n",
       "1017  None    NaN  tt2084611      None     NaN      NaN   None\n",
       "1189  None    NaN  tt1442170      None     NaN      NaN   None\n",
       "1337  None    NaN  tt3450386      None     NaN      NaN   None"
      ]
     },
     "execution_count": 969,
     "metadata": {},
     "output_type": "execute_result"
    }
   ],
   "source": [
    "tvmaze[tvmaze['name'].isnull()]"
   ]
  },
  {
   "cell_type": "markdown",
   "metadata": {},
   "source": [
    "Pretty good. Only five total shows unaccounted for in the tvmaze data, and for all of those we have the IMDB IDs to pull more data."
   ]
  },
  {
   "cell_type": "code",
   "execution_count": 970,
   "metadata": {
    "collapsed": true
   },
   "outputs": [],
   "source": [
    "tvmaze.to_csv(\"tvmaze_tmp_3.csv\")"
   ]
  },
  {
   "cell_type": "code",
   "execution_count": 972,
   "metadata": {},
   "outputs": [
    {
     "data": {
      "text/plain": [
       "name              None\n",
       "tv_id              NaN\n",
       "imdb         tt1489432\n",
       "prem_date         None\n",
       "rating             NaN\n",
       "runtime            NaN\n",
       "ep_day            None\n",
       "Name: 737, dtype: object"
      ]
     },
     "execution_count": 972,
     "metadata": {},
     "output_type": "execute_result"
    }
   ],
   "source": [
    "tvmaze.iloc[737]"
   ]
  },
  {
   "cell_type": "code",
   "execution_count": 973,
   "metadata": {},
   "outputs": [
    {
     "data": {
      "text/plain": [
       "genre                                                           Talk\n",
       "link               http://www.ismyshowcancelled.com/show/2009/lop...\n",
       "network                                                          TBS\n",
       "status                                                     Cancelled\n",
       "tagline            A late-night talk show starring comedian Georg...\n",
       "title                                                  Lopez Tonight\n",
       "years                                                    2009 - 2011\n",
       "start_year                                                      2009\n",
       "end_year                                                        2011\n",
       "synopsis           Lopez Tonight is an hour-long talk show that f...\n",
       "primary_genre                                                   Talk\n",
       "secondary_genre                                                  NaN\n",
       "Comedy                                                             0\n",
       "Drama                                                              0\n",
       "Game Show                                                          0\n",
       "Reality                                                            0\n",
       "Sci-fi                                                             0\n",
       "Talk                                                               1\n",
       "Crime                                                              0\n",
       "Action                                                             0\n",
       "Fantasy                                                            0\n",
       "Animated                                                           0\n",
       "Horror                                                             0\n",
       "Legal                                                              0\n",
       "Medical                                                            0\n",
       "Name: 737, dtype: object"
      ]
     },
     "execution_count": 973,
     "metadata": {},
     "output_type": "execute_result"
    }
   ],
   "source": [
    "shows.iloc[737]"
   ]
  },
  {
   "cell_type": "code",
   "execution_count": 2,
   "metadata": {
    "collapsed": true
   },
   "outputs": [],
   "source": [
    "import pandas as pd"
   ]
  },
  {
   "cell_type": "code",
   "execution_count": 5,
   "metadata": {
    "collapsed": true
   },
   "outputs": [],
   "source": [
    "tvmaze = pd.read_csv(\"tvmaze_tmp_3.csv\",index_col=0)"
   ]
  },
  {
   "cell_type": "code",
   "execution_count": 6,
   "metadata": {},
   "outputs": [
    {
     "data": {
      "text/plain": [
       "name          object\n",
       "tv_id        float64\n",
       "imdb          object\n",
       "prem_date     object\n",
       "rating       float64\n",
       "runtime      float64\n",
       "ep_day        object\n",
       "dtype: object"
      ]
     },
     "execution_count": 6,
     "metadata": {},
     "output_type": "execute_result"
    }
   ],
   "source": [
    "tvmaze.dtypes"
   ]
  },
  {
   "cell_type": "code",
   "execution_count": null,
   "metadata": {
    "collapsed": true
   },
   "outputs": [],
   "source": [
    "# Doing some downcasting to save to pkl...\n",
    "tvmaze[['name','imdb','tv_id','ep_day']] = tvmaze[['name','imdb','tv_id','ep_day']].apply(lambda x: x.astype('category')) "
   ]
  }
 ],
 "metadata": {
  "kernelspec": {
   "display_name": "Python 3",
   "language": "python",
   "name": "python3"
  },
  "language_info": {
   "codemirror_mode": {
    "name": "ipython",
    "version": 3
   },
   "file_extension": ".py",
   "mimetype": "text/x-python",
   "name": "python",
   "nbconvert_exporter": "python",
   "pygments_lexer": "ipython3",
   "version": "3.6.3"
  }
 },
 "nbformat": 4,
 "nbformat_minor": 2
}
