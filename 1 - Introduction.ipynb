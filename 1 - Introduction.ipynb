{
 "cells": [
  {
   "cell_type": "markdown",
   "metadata": {},
   "source": [
    "# Predicting TV Show Cancellation\n",
    "#### Background to the problem\n",
    "The production of TV shows involves a notoriously high rate of failure. Every year, many new shows air, only some of which will find an audience while many others fade into obscurity, losing money for everyone involved. The disadvantages of the current model are clear, both for the creators of shows and the networks who take on the risk of carrying them. My aim with this capstone is to make a small dent in this problem by using data. More specifically, we'll be modeling to predict whether or not a given show will last past season two, which is a milestone not much more than half of shows in our dataset reach.\n",
    "\n",
    "#### How is your solution valuable?\n",
    "I will experiment with creating two different types of models, one that predicts cancellation before two seasons with only pre-premiere data, and another that predicts the same but using post-premiere information like IMDB votes and average rating. The former will be a weaker learner but afford the user more opportunities to make decisions based on its output, whereas the latter will likely be a much more accurate model. Show creators, writers, networks, and studios could potentially use these models in their decisionmaking process about the viability of shows, helping them to influence outcomes for the better. Fans could also use these to help decide which shows are worth investing in, given their particular risk of premature cancellation.\n",
    "\n",
    "#### What are the steps I'll be taking?\n",
    "As laid out in ascending order in the repository, the steps will be:\n",
    "- Data scraping using ismyshowcancelled.com to get a barebones dataset, to be supplemented by API pulls from TVMaze and OMDB\n",
    "- Data cleaning, exploration, feature creation, and clustering\n",
    "- Supervised modeling based on our engineered features\n",
    "- Attempted incorporation of NLP analysis of show taglines, synopses, and plotlines into the supervised models\n",
    "- Evaluation of the models and some additional testing, along with concluding thoughts\n",
    "\n",
    "Thanks for reading!"
   ]
  }
 ],
 "metadata": {
  "kernelspec": {
   "display_name": "Python 3",
   "language": "python",
   "name": "python3"
  },
  "language_info": {
   "codemirror_mode": {
    "name": "ipython",
    "version": 3
   },
   "file_extension": ".py",
   "mimetype": "text/x-python",
   "name": "python",
   "nbconvert_exporter": "python",
   "pygments_lexer": "ipython3",
   "version": "3.6.3"
  }
 },
 "nbformat": 4,
 "nbformat_minor": 2
}
