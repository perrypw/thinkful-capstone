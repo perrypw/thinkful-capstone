{
 "cells": [
  {
   "cell_type": "code",
   "execution_count": 4,
   "metadata": {
    "collapsed": true,
    "scrolled": true
   },
   "outputs": [],
   "source": [
    "import gensim\n",
    "model = gensim.models.KeyedVectors.load_word2vec_format('/Users/perrypetra-wong/Dropbox/Thinkful/Lessons/Capstone/GoogleNews-vectors-negative300.bin', binary=True)\n",
    "#model = gensim.models.KeyedVectors.load_word2vec_format('GoogleNews-vectors-negative300.bin', binary=True)"
   ]
  },
  {
   "cell_type": "code",
   "execution_count": 5,
   "metadata": {
    "collapsed": true
   },
   "outputs": [],
   "source": [
    "import pandas as pd\n",
    "import numpy as np\n",
    "from sklearn.externals import joblib\n",
    "from sklearn.decomposition import PCA\n",
    "shows = pd.read_pickle(\"no_na_pre2017_v4.pkl\")"
   ]
  },
  {
   "cell_type": "code",
   "execution_count": 11,
   "metadata": {
    "collapsed": true
   },
   "outputs": [],
   "source": [
    "from sklearn.linear_model import LogisticRegression\n",
    "from sklearn.ensemble import RandomForestClassifier\n",
    "from sklearn.ensemble import GradientBoostingClassifier\n",
    "from sklearn.model_selection import GridSearchCV\n",
    "from sklearn.model_selection import cross_val_score\n",
    "from sklearn.svm import SVC\n",
    "from sklearn import metrics\n",
    "import seaborn as sns\n",
    "import matplotlib.pyplot as plt"
   ]
  },
  {
   "cell_type": "markdown",
   "metadata": {},
   "source": [
    "As we know from the prior notebook, very little learning came from trying to train NLP models on the original training data. If this is a shortcoming of having too few documents to train on, we can instead use a pretrained model for potentially better results. Let's see if adding word2vec vectorization based on the Google News pretrained model in particular does any better. We know that there's numerous ways to incorporate a word2vec model into a feature space, so we'll try the following:\n",
    "- Taking simple averages of vectors, and then average those for each document. This will result in one number to represent each text entry (tagline, synopsis, or imdb plot)\n",
    "- Taking the element-wise minimum and maximum of the vectors in each document (for a feature space of 600 per observation)\n",
    "    - This idea came from [this Elsevier paper](https://arxiv.org/pdf/1607.00570.pdf)\n",
    "- Taking the element-wise mean of the vectors in each document (for a feature space of 300 per observation)"
   ]
  },
  {
   "cell_type": "markdown",
   "metadata": {},
   "source": [
    "## Cut #1: Averaging word vectors in total"
   ]
  },
  {
   "cell_type": "code",
   "execution_count": 4,
   "metadata": {
    "collapsed": true
   },
   "outputs": [],
   "source": [
    "import string\n",
    "\n",
    "def word2vectorizer(wordstring):\n",
    "    \n",
    "    wordvecs = []\n",
    "    \n",
    "    # In case of null\n",
    "    if isinstance(wordstring,float):\n",
    "        wordvecs = 0\n",
    "    else:\n",
    "        punct_remover = str.maketrans('', '', string.punctuation)\n",
    "        \n",
    "        # Removing punctuation and splitting apart words\n",
    "        punct_stripped = wordstring.translate(punct_remover)\n",
    "        wordlist = punct_stripped.split()\n",
    "\n",
    "        # If word is in Google model, add it its corresponding vec to our running list\n",
    "        for word in wordlist:\n",
    "            if word in model:\n",
    "                wordvecs.append(model[word].mean())\n",
    "\n",
    "        # Make zero if we didn't have any matches whatsoever, otherwise average all the mean vecs\n",
    "        if len(wordvecs) == 0:\n",
    "            wordvecs = 0\n",
    "        else:\n",
    "            wordvecs = np.mean(wordvecs)\n",
    "    \n",
    "    return wordvecs"
   ]
  },
  {
   "cell_type": "code",
   "execution_count": 5,
   "metadata": {
    "collapsed": true,
    "scrolled": true
   },
   "outputs": [],
   "source": [
    "wordvecinfo = pd.DataFrame({'tagline_vec': shows['tagline'].apply(word2vectorizer)\n",
    "                            ,'synopsis_vec': shows['synopsis'].apply(word2vectorizer)\n",
    "                            ,'imdb_plot_vec': shows['imdb_plot'].astype('O').apply(word2vectorizer)})"
   ]
  },
  {
   "cell_type": "code",
   "execution_count": 6,
   "metadata": {},
   "outputs": [
    {
     "data": {
      "text/html": [
       "<div>\n",
       "<style scoped>\n",
       "    .dataframe tbody tr th:only-of-type {\n",
       "        vertical-align: middle;\n",
       "    }\n",
       "\n",
       "    .dataframe tbody tr th {\n",
       "        vertical-align: top;\n",
       "    }\n",
       "\n",
       "    .dataframe thead th {\n",
       "        text-align: right;\n",
       "    }\n",
       "</style>\n",
       "<table border=\"1\" class=\"dataframe\">\n",
       "  <thead>\n",
       "    <tr style=\"text-align: right;\">\n",
       "      <th></th>\n",
       "      <th>imdb_plot_vec</th>\n",
       "      <th>synopsis_vec</th>\n",
       "      <th>tagline_vec</th>\n",
       "    </tr>\n",
       "  </thead>\n",
       "  <tbody>\n",
       "    <tr>\n",
       "      <th>0</th>\n",
       "      <td>0.000534</td>\n",
       "      <td>-0.000154</td>\n",
       "      <td>0.000360</td>\n",
       "    </tr>\n",
       "    <tr>\n",
       "      <th>1</th>\n",
       "      <td>-0.002832</td>\n",
       "      <td>-0.000304</td>\n",
       "      <td>-0.002745</td>\n",
       "    </tr>\n",
       "    <tr>\n",
       "      <th>2</th>\n",
       "      <td>-0.001667</td>\n",
       "      <td>-0.003027</td>\n",
       "      <td>-0.003814</td>\n",
       "    </tr>\n",
       "    <tr>\n",
       "      <th>3</th>\n",
       "      <td>-0.004004</td>\n",
       "      <td>-0.001980</td>\n",
       "      <td>-0.002769</td>\n",
       "    </tr>\n",
       "    <tr>\n",
       "      <th>4</th>\n",
       "      <td>0.000309</td>\n",
       "      <td>0.000269</td>\n",
       "      <td>0.001055</td>\n",
       "    </tr>\n",
       "  </tbody>\n",
       "</table>\n",
       "</div>"
      ],
      "text/plain": [
       "   imdb_plot_vec synopsis_vec tagline_vec\n",
       "0       0.000534    -0.000154    0.000360\n",
       "1      -0.002832    -0.000304   -0.002745\n",
       "2      -0.001667    -0.003027   -0.003814\n",
       "3      -0.004004    -0.001980   -0.002769\n",
       "4       0.000309     0.000269    0.001055"
      ]
     },
     "execution_count": 6,
     "metadata": {},
     "output_type": "execute_result"
    }
   ],
   "source": [
    "wordvecinfo = pd.read_pickle(\"wordvecmeans.pkl\")\n",
    "wordvecinfo.head()"
   ]
  },
  {
   "cell_type": "markdown",
   "metadata": {},
   "source": [
    "Let's perform some supervised modeling on the results. Our baseline is again ~57%.\n",
    "\n",
    "### Supervised models w/ just word2vec aggregate means"
   ]
  },
  {
   "cell_type": "code",
   "execution_count": 7,
   "metadata": {
    "collapsed": true
   },
   "outputs": [],
   "source": [
    "# DF to store results\n",
    "word2vec_model_comp = pd.DataFrame(columns=['accuracy','precision','recall'])"
   ]
  },
  {
   "cell_type": "code",
   "execution_count": 9,
   "metadata": {
    "scrolled": true
   },
   "outputs": [
    {
     "ename": "ValueError",
     "evalue": "Buffer dtype mismatch, expected 'Python object' but got 'double'",
     "output_type": "error",
     "traceback": [
      "\u001b[0;31m---------------------------------------------------------------------------\u001b[0m",
      "\u001b[0;31mValueError\u001b[0m                                Traceback (most recent call last)",
      "\u001b[0;31mValueError\u001b[0m: Buffer dtype mismatch, expected 'Python object' but got 'double'"
     ]
    },
    {
     "name": "stderr",
     "output_type": "stream",
     "text": [
      "Exception ignored in: 'pandas._libs.lib.is_bool_array'\n",
      "ValueError: Buffer dtype mismatch, expected 'Python object' but got 'double'\n"
     ]
    },
    {
     "ename": "ValueError",
     "evalue": "Buffer dtype mismatch, expected 'Python object' but got 'double'",
     "output_type": "error",
     "traceback": [
      "\u001b[0;31m---------------------------------------------------------------------------\u001b[0m",
      "\u001b[0;31mValueError\u001b[0m                                Traceback (most recent call last)",
      "\u001b[0;31mValueError\u001b[0m: Buffer dtype mismatch, expected 'Python object' but got 'double'"
     ]
    },
    {
     "name": "stderr",
     "output_type": "stream",
     "text": [
      "Exception ignored in: 'pandas._libs.lib.is_bool_array'\n",
      "ValueError: Buffer dtype mismatch, expected 'Python object' but got 'double'\n"
     ]
    }
   ],
   "source": [
    "shows = shows.join(wordvecinfo)\n",
    "#shows.to_pickle('cleaned_dataset_v5.pkl')"
   ]
  },
  {
   "cell_type": "code",
   "execution_count": 10,
   "metadata": {
    "collapsed": true
   },
   "outputs": [],
   "source": [
    "X = shows.iloc[:,-3:]\n",
    "Y = shows['two_season_cancel']"
   ]
  },
  {
   "cell_type": "code",
   "execution_count": 11,
   "metadata": {
    "scrolled": true
   },
   "outputs": [
    {
     "name": "stdout",
     "output_type": "stream",
     "text": [
      "LRC accuracy (grid-searched): 57.90%\n"
     ]
    }
   ],
   "source": [
    "lrc = LogisticRegression()\n",
    "\n",
    "params = {'C': np.power(10,np.arange(-10,10).astype(float))\n",
    "          ,'penalty':['l1','l2']}\n",
    "\n",
    "GS_LRC = GridSearchCV(lrc,param_grid=params,scoring='accuracy')\n",
    "\n",
    "GS_LRC.fit(X,Y)\n",
    "lrc_score = GS_LRC.best_score_\n",
    "print('LRC accuracy (grid-searched): {0:.2%}'.format(lrc_score))"
   ]
  },
  {
   "cell_type": "code",
   "execution_count": 83,
   "metadata": {},
   "outputs": [
    {
     "name": "stdout",
     "output_type": "stream",
     "text": [
      "RFC accuracy (grid-searched): 58.36%\n"
     ]
    }
   ],
   "source": [
    "# Successive gridsearching\n",
    "rfc = RandomForestClassifier()\n",
    "\n",
    "rf_params = {\n",
    "    'n_estimators':np.arange(25,45,5),\n",
    "    'max_features':['auto','log2','sqrt',None],\n",
    "    'max_depth':np.append(np.array([None]),np.arange(2,11,1)),\n",
    "    'min_samples_leaf':np.arange(1,5),\n",
    "}\n",
    "\n",
    "GS_RFC = GridSearchCV(rfc,param_grid=rf_params,scoring='accuracy')\n",
    "\n",
    "GS_RFC.fit(X,Y)\n",
    "rfc_score = GS_RFC.best_score_\n",
    "print('RFC accuracy (grid-searched): {0:.2%}'.format(rfc_score))"
   ]
  },
  {
   "cell_type": "code",
   "execution_count": 84,
   "metadata": {},
   "outputs": [
    {
     "name": "stdout",
     "output_type": "stream",
     "text": [
      "GBC accuracy (grid-searched): 58.43%\n"
     ]
    }
   ],
   "source": [
    "# Successive gridsearching\n",
    "gbc = GradientBoostingClassifier()\n",
    "gb_params = {\n",
    "    'loss':['deviance','exponential'],\n",
    "    'learning_rate':np.arange(0.1,1,0.1),\n",
    "    'n_estimators':np.arange(10,40,10),\n",
    "    'max_depth':np.append(np.array([None]),np.arange(1,11,1)),\n",
    "}\n",
    "\n",
    "GS_GBC = GridSearchCV(gbc,param_grid=gb_params,scoring='accuracy')\n",
    "\n",
    "GS_GBC.fit(X,Y)\n",
    "gbc_score = GS_GBC.best_score_\n",
    "print('GBC accuracy (grid-searched): {0:.2%}'.format(gbc_score))"
   ]
  },
  {
   "cell_type": "markdown",
   "metadata": {},
   "source": [
    "Results are pretty poor, but let's see how well this plays with our high performing supervised model when it is included.\n",
    "\n",
    "### Supervised models with aggregate word2vec means and our feature set from earlier models\n",
    "##### GBC"
   ]
  },
  {
   "cell_type": "code",
   "execution_count": 12,
   "metadata": {
    "collapsed": true
   },
   "outputs": [],
   "source": [
    "gbc = GradientBoostingClassifier()\n",
    "\n",
    "X = pd.concat([pd.get_dummies(shows[['network_type','country','tvmaze_ep_day','primary_genre']].apply(lambda x: x.astype('O')))\\\n",
    "               ,shows[['risky_2season','start_year','quarter','month','imdb_plot_vec','synopsis_vec','tagline_vec']]],axis=1)\n",
    "Y = shows['two_season_cancel']"
   ]
  },
  {
   "cell_type": "code",
   "execution_count": 13,
   "metadata": {
    "collapsed": true
   },
   "outputs": [],
   "source": [
    "# Successive gridsearching (which is why params might not match what's elsewhere)\n",
    "gb_params = {\n",
    "    'loss':['deviance','exponential'],\n",
    "    'learning_rate':np.arange(0.1,1,0.1),\n",
    "    'n_estimators':np.arange(10,40,10),\n",
    "    'max_depth':np.append(np.array([None]),np.arange(1,11,1)),\n",
    "}\n",
    "\n",
    "GS_GBC = GridSearchCV(gbc,param_grid=gb_params,scoring='accuracy')"
   ]
  },
  {
   "cell_type": "code",
   "execution_count": 14,
   "metadata": {
    "scrolled": true
   },
   "outputs": [
    {
     "name": "stdout",
     "output_type": "stream",
     "text": [
      "GBC accuracy (grid-searched): 72.95%\n"
     ]
    }
   ],
   "source": [
    "GS_GBC.fit(X,Y)\n",
    "gbc_acc = GS_GBC.best_score_\n",
    "print('GBC accuracy (grid-searched): {0:.2%}'.format(gbc_acc))"
   ]
  },
  {
   "cell_type": "code",
   "execution_count": 15,
   "metadata": {},
   "outputs": [
    {
     "data": {
      "text/plain": [
       "{'learning_rate': 0.1, 'loss': 'deviance', 'max_depth': 2, 'n_estimators': 30}"
      ]
     },
     "execution_count": 15,
     "metadata": {},
     "output_type": "execute_result"
    }
   ],
   "source": [
    "GS_GBC.best_params_"
   ]
  },
  {
   "cell_type": "code",
   "execution_count": 16,
   "metadata": {},
   "outputs": [
    {
     "data": {
      "text/html": [
       "<div>\n",
       "<style scoped>\n",
       "    .dataframe tbody tr th:only-of-type {\n",
       "        vertical-align: middle;\n",
       "    }\n",
       "\n",
       "    .dataframe tbody tr th {\n",
       "        vertical-align: top;\n",
       "    }\n",
       "\n",
       "    .dataframe thead th {\n",
       "        text-align: right;\n",
       "    }\n",
       "</style>\n",
       "<table border=\"1\" class=\"dataframe\">\n",
       "  <thead>\n",
       "    <tr style=\"text-align: right;\">\n",
       "      <th></th>\n",
       "      <th>accuracy</th>\n",
       "      <th>precision</th>\n",
       "      <th>recall</th>\n",
       "    </tr>\n",
       "  </thead>\n",
       "  <tbody>\n",
       "    <tr>\n",
       "      <th>GBC w/ aggregate means</th>\n",
       "      <td>0.729483</td>\n",
       "      <td>0.688699</td>\n",
       "      <td>0.664395</td>\n",
       "    </tr>\n",
       "  </tbody>\n",
       "</table>\n",
       "</div>"
      ],
      "text/plain": [
       "                        accuracy  precision    recall\n",
       "GBC w/ aggregate means  0.729483   0.688699  0.664395"
      ]
     },
     "execution_count": 16,
     "metadata": {},
     "output_type": "execute_result"
    }
   ],
   "source": [
    "#Storing results\n",
    "gbc_prec = cross_val_score(GS_GBC.best_estimator_,X,Y,scoring='precision').mean()\n",
    "gbc_rec = cross_val_score(GS_GBC.best_estimator_,X,Y,scoring='recall').mean()\n",
    "\n",
    "word2vec_model_comp.loc['GBC w/ aggregate means'] = [gbc_acc,gbc_prec,gbc_rec]\n",
    "word2vec_model_comp"
   ]
  },
  {
   "cell_type": "code",
   "execution_count": 30,
   "metadata": {},
   "outputs": [
    {
     "data": {
      "text/plain": [
       "['Extras/GS_wv_gbc.pkl']"
      ]
     },
     "execution_count": 30,
     "metadata": {},
     "output_type": "execute_result"
    }
   ],
   "source": [
    "joblib.dump(GS_GBC,\"Extras/GS_wv_gbc.pkl\")"
   ]
  },
  {
   "cell_type": "markdown",
   "metadata": {},
   "source": [
    "This represents barely any improvement vs. our original model. Let's see if the decently performing RFC or SVM did any better.\n",
    "\n",
    "##### RFC"
   ]
  },
  {
   "cell_type": "code",
   "execution_count": 18,
   "metadata": {
    "collapsed": true
   },
   "outputs": [],
   "source": [
    "rfc = RandomForestClassifier()\n",
    "\n",
    "# Successive gridsearching\n",
    "rf_params = {\n",
    "    'n_estimators':np.arange(25,45,5),\n",
    "    'max_features':['auto','log2','sqrt',None],\n",
    "    'max_depth':np.append(np.array([None]),np.arange(2,11,1)),\n",
    "    'min_samples_leaf':np.arange(1,5),\n",
    "}\n",
    "\n",
    "GS_RFC = GridSearchCV(rfc,param_grid=rf_params,scoring='accuracy',refit=True)"
   ]
  },
  {
   "cell_type": "code",
   "execution_count": 26,
   "metadata": {},
   "outputs": [
    {
     "name": "stdout",
     "output_type": "stream",
     "text": [
      "RFC accuracy (grid-searched): 72.80%\n",
      "{'max_depth': 8, 'max_features': 'sqrt', 'min_samples_leaf': 1, 'n_estimators': 25}\n"
     ]
    }
   ],
   "source": [
    "GS_RFC.fit(X,Y)\n",
    "rfc_acc = GS_RFC.best_score_\n",
    "print('RFC accuracy (grid-searched): {0:.2%}'.format(rfc_acc))\n",
    "print(GS_RFC.best_params_)"
   ]
  },
  {
   "cell_type": "code",
   "execution_count": 27,
   "metadata": {},
   "outputs": [
    {
     "data": {
      "image/png": "[encoded data removed]",
      "text/plain": [
       "<matplotlib.figure.Figure at 0x22f2fef98>"
      ]
     },
     "metadata": {},
     "output_type": "display_data"
    }
   ],
   "source": [
    "GS_RFC.estimator.fit(X,Y)\n",
    "\n",
    "feat_impt_df = pd.DataFrame(data={'feat':X.columns,'feat_importance':GS_RFC.estimator.feature_importances_}).sort_values('feat_importance',ascending=False)\n",
    "order = feat_impt_df.feat\n",
    "\n",
    "plt.figure(figsize=(8,4))\n",
    "sns.barplot(x='feat',y='feat_importance',data=feat_impt_df,order=order)\n",
    "plt.xticks(rotation=60)\n",
    "plt.show()"
   ]
  },
  {
   "cell_type": "code",
   "execution_count": 28,
   "metadata": {},
   "outputs": [
    {
     "data": {
      "text/html": [
       "<div>\n",
       "<style scoped>\n",
       "    .dataframe tbody tr th:only-of-type {\n",
       "        vertical-align: middle;\n",
       "    }\n",
       "\n",
       "    .dataframe tbody tr th {\n",
       "        vertical-align: top;\n",
       "    }\n",
       "\n",
       "    .dataframe thead th {\n",
       "        text-align: right;\n",
       "    }\n",
       "</style>\n",
       "<table border=\"1\" class=\"dataframe\">\n",
       "  <thead>\n",
       "    <tr style=\"text-align: right;\">\n",
       "      <th></th>\n",
       "      <th>accuracy</th>\n",
       "      <th>precision</th>\n",
       "      <th>recall</th>\n",
       "    </tr>\n",
       "  </thead>\n",
       "  <tbody>\n",
       "    <tr>\n",
       "      <th>GBC w/ aggregate means</th>\n",
       "      <td>0.729483</td>\n",
       "      <td>0.688699</td>\n",
       "      <td>0.664395</td>\n",
       "    </tr>\n",
       "    <tr>\n",
       "      <th>RFC w/ aggregate means</th>\n",
       "      <td>0.727964</td>\n",
       "      <td>0.605476</td>\n",
       "      <td>0.671314</td>\n",
       "    </tr>\n",
       "  </tbody>\n",
       "</table>\n",
       "</div>"
      ],
      "text/plain": [
       "                        accuracy  precision    recall\n",
       "GBC w/ aggregate means  0.729483   0.688699  0.664395\n",
       "RFC w/ aggregate means  0.727964   0.605476  0.671314"
      ]
     },
     "execution_count": 28,
     "metadata": {},
     "output_type": "execute_result"
    }
   ],
   "source": [
    "#Storing results\n",
    "rfc_prec = cross_val_score(GS_RFC.best_estimator_,X,Y,scoring='precision').mean()\n",
    "rfc_rec = cross_val_score(GS_RFC.best_estimator_,X,Y,scoring='recall').mean()\n",
    "\n",
    "word2vec_model_comp.loc['RFC w/ aggregate means'] = [rfc_acc,rfc_rec,rfc_prec]\n",
    "word2vec_model_comp"
   ]
  },
  {
   "cell_type": "code",
   "execution_count": 29,
   "metadata": {},
   "outputs": [
    {
     "data": {
      "text/plain": [
       "['Extras/GS_wv_rfc.pkl']"
      ]
     },
     "execution_count": 29,
     "metadata": {},
     "output_type": "execute_result"
    }
   ],
   "source": [
    "# Saving to pickle\n",
    "joblib.dump(GS_RFC,\"Extras/GS_wv_rfc.pkl\")"
   ]
  },
  {
   "cell_type": "markdown",
   "metadata": {},
   "source": [
    "##### SVM"
   ]
  },
  {
   "cell_type": "code",
   "execution_count": 33,
   "metadata": {},
   "outputs": [
    {
     "data": {
      "text/html": [
       "<div>\n",
       "<style scoped>\n",
       "    .dataframe tbody tr th:only-of-type {\n",
       "        vertical-align: middle;\n",
       "    }\n",
       "\n",
       "    .dataframe tbody tr th {\n",
       "        vertical-align: top;\n",
       "    }\n",
       "\n",
       "    .dataframe thead th {\n",
       "        text-align: right;\n",
       "    }\n",
       "</style>\n",
       "<table border=\"1\" class=\"dataframe\">\n",
       "  <thead>\n",
       "    <tr style=\"text-align: right;\">\n",
       "      <th></th>\n",
       "      <th>accuracy</th>\n",
       "      <th>precision</th>\n",
       "      <th>recall</th>\n",
       "    </tr>\n",
       "  </thead>\n",
       "  <tbody>\n",
       "    <tr>\n",
       "      <th>GBC w/ aggregate means</th>\n",
       "      <td>0.729483</td>\n",
       "      <td>0.688699</td>\n",
       "      <td>0.664395</td>\n",
       "    </tr>\n",
       "    <tr>\n",
       "      <th>RFC w/ aggregate means</th>\n",
       "      <td>0.727964</td>\n",
       "      <td>0.605476</td>\n",
       "      <td>0.671314</td>\n",
       "    </tr>\n",
       "    <tr>\n",
       "      <th>SVM Classifier w/ aggregate means</th>\n",
       "      <td>0.723404</td>\n",
       "      <td>0.678964</td>\n",
       "      <td>0.664367</td>\n",
       "    </tr>\n",
       "  </tbody>\n",
       "</table>\n",
       "</div>"
      ],
      "text/plain": [
       "                                   accuracy  precision    recall\n",
       "GBC w/ aggregate means             0.729483   0.688699  0.664395\n",
       "RFC w/ aggregate means             0.727964   0.605476  0.671314\n",
       "SVM Classifier w/ aggregate means  0.723404   0.678964  0.664367"
      ]
     },
     "execution_count": 33,
     "metadata": {},
     "output_type": "execute_result"
    }
   ],
   "source": [
    "from sklearn.preprocessing import MinMaxScaler\n",
    "\n",
    "svc = SVC()\n",
    "\n",
    "# Need to use different inputs vs. RFC/GB\n",
    "\n",
    "X = pd.concat([pd.get_dummies(shows[['network_type','country','tvmaze_ep_day','primary_genre']].apply(lambda x: x.astype('O'))).reset_index(drop=True)\\\n",
    "               ,shows[['risky_2season','start_year']].reset_index(drop=True)\\\n",
    "           ,pd.DataFrame(MinMaxScaler().fit_transform(shows[['quarter','month']])\\\n",
    "                         ,columns=['quarter','month'])],axis=1)\n",
    "\n",
    "# Successive gridsearching\n",
    "svc_params = {\n",
    "    'C':np.power(10,np.arange(-2,2).astype(float)),\n",
    "    'kernel':['rbf']\n",
    "}\n",
    "\n",
    "GS_SVC = GridSearchCV(svc,param_grid=svc_params,scoring='accuracy',refit=True)\n",
    "\n",
    "GS_SVC.fit(X,Y)\n",
    "svc_acc = GS_SVC.best_score_\n",
    "\n",
    "#Storing results\n",
    "svc_prec = cross_val_score(GS_SVC.best_estimator_,X,Y,scoring='precision').mean()\n",
    "svc_rec = cross_val_score(GS_SVC.best_estimator_,X,Y,scoring='recall').mean()\n",
    "\n",
    "word2vec_model_comp.loc['SVM Classifier w/ aggregate means'] = [svc_acc,svc_prec,svc_rec]\n",
    "word2vec_model_comp"
   ]
  },
  {
   "cell_type": "code",
   "execution_count": 39,
   "metadata": {},
   "outputs": [
    {
     "data": {
      "text/plain": [
       "['Extras/GS_wv_svc.pkl']"
      ]
     },
     "execution_count": 39,
     "metadata": {},
     "output_type": "execute_result"
    }
   ],
   "source": [
    "# Saving to pickle\n",
    "joblib.dump(GS_SVC,\"Extras/GS_wv_svc.pkl\")"
   ]
  },
  {
   "cell_type": "markdown",
   "metadata": {},
   "source": [
    "Looks like all of them are performing pretty similarly, with very little benefit being yielded."
   ]
  },
  {
   "cell_type": "markdown",
   "metadata": {},
   "source": [
    "## Cut #2 - Taking the min and max vectors concatenated, element-wise"
   ]
  },
  {
   "cell_type": "code",
   "execution_count": 103,
   "metadata": {
    "collapsed": true
   },
   "outputs": [],
   "source": [
    "import string\n",
    "\n",
    "def word2vectorizer_minmax(wordstring):\n",
    "    \n",
    "    wordvecs = []\n",
    "    \n",
    "    # In case of null\n",
    "    if isinstance(wordstring,float):\n",
    "        wordvecs = [0]*300*2\n",
    "    else:\n",
    "        punct_remover = str.maketrans('', '', string.punctuation)\n",
    "        \n",
    "        # Removing punctuation and splitting apart words\n",
    "        punct_stripped = wordstring.translate(punct_remover)\n",
    "        wordlist = punct_stripped.split()\n",
    "\n",
    "        # If word is in Google model, add it its corresponding vec to our running list\n",
    "        for word in wordlist:\n",
    "            if word in model:\n",
    "                wordvecs.append(model[word])\n",
    "\n",
    "        # Make zero if we didn't have any matches whatsoever, otherwise average all the mean vecs\n",
    "        if len(wordvecs) == 0:\n",
    "            wordvecs = [0]*300*2\n",
    "        else:\n",
    "            vecmin = np.min(wordvecs,axis=0)\n",
    "            vecmax = np.max(wordvecs,axis=0)\n",
    "            wordvecs = np.concatenate((vecmin,vecmax),axis=0)\n",
    "    \n",
    "    return wordvecs"
   ]
  },
  {
   "cell_type": "code",
   "execution_count": 106,
   "metadata": {
    "collapsed": true
   },
   "outputs": [],
   "source": [
    "tagline_el_minmax = pd.DataFrame(shows['tagline'].astype('O').apply(word2vectorizer_minmax).values.tolist())\n",
    "synopsis_el_minmax = pd.DataFrame(shows['synopsis'].astype('O').apply(word2vectorizer_minmax).values.tolist())\n",
    "imdbplot_el_minmax = pd.DataFrame(shows['imdb_plot'].astype('O').apply(word2vectorizer_minmax).values.tolist())\n",
    "tot_el_minmax = pd.concat([tagline_el_minmax,synopsis_el_minmax,imdbplot_el_minmax],axis=1)"
   ]
  },
  {
   "cell_type": "code",
   "execution_count": 110,
   "metadata": {
    "collapsed": true
   },
   "outputs": [],
   "source": [
    "X = tagline_el_minmax"
   ]
  },
  {
   "cell_type": "markdown",
   "metadata": {},
   "source": [
    "This is an opportunity for dimensionality reduction given the very high number of features."
   ]
  },
  {
   "cell_type": "code",
   "execution_count": 122,
   "metadata": {
    "collapsed": true
   },
   "outputs": [],
   "source": [
    "performance=[]\n",
    "rng = np.arange(10,200,10)\n",
    "for x in rng:\n",
    "    pca = PCA(n_components=x)\n",
    "    X_pca = pca.fit_transform(X)\n",
    "    performance.append(cross_val_score(lrc,X_pca,Y).mean())"
   ]
  },
  {
   "cell_type": "code",
   "execution_count": 123,
   "metadata": {},
   "outputs": [
    {
     "data": {
      "image/png": "[encoded data removed]",
      "text/plain": [
       "<matplotlib.figure.Figure at 0x237957588>"
      ]
     },
     "metadata": {},
     "output_type": "display_data"
    }
   ],
   "source": [
    "plt.plot(rng,performance)\n",
    "plt.show()"
   ]
  },
  {
   "cell_type": "code",
   "execution_count": 125,
   "metadata": {},
   "outputs": [
    {
     "data": {
      "text/plain": [
       "30"
      ]
     },
     "execution_count": 125,
     "metadata": {},
     "output_type": "execute_result"
    }
   ],
   "source": [
    "rng[np.argmax(performance)]"
   ]
  },
  {
   "cell_type": "code",
   "execution_count": 126,
   "metadata": {
    "collapsed": true
   },
   "outputs": [],
   "source": [
    "pca = PCA(n_components=30)\n",
    "X_pca = pca.fit_transform(X)"
   ]
  },
  {
   "cell_type": "code",
   "execution_count": 127,
   "metadata": {},
   "outputs": [
    {
     "data": {
      "text/plain": [
       "array([0.64236902, 0.58769932, 0.57762557])"
      ]
     },
     "execution_count": 127,
     "metadata": {},
     "output_type": "execute_result"
    }
   ],
   "source": [
    "cross_val_score(gbc,X_pca,Y)"
   ]
  },
  {
   "cell_type": "code",
   "execution_count": 113,
   "metadata": {},
   "outputs": [
    {
     "name": "stdout",
     "output_type": "stream",
     "text": [
      "[0.59225513 0.51480638 0.55479452]\n",
      "[0.58314351 0.53530752 0.56164384]\n",
      "[0.60592255 0.56264237 0.57077626]\n"
     ]
    }
   ],
   "source": [
    "print(cross_val_score(gbc,tagline_el_minmax,Y))\n",
    "print(cross_val_score(gbc,synopsis_el_minmax,Y))\n",
    "print(cross_val_score(gbc,imdbplot_el_minmax,Y))"
   ]
  },
  {
   "cell_type": "markdown",
   "metadata": {},
   "source": [
    "We're getting fairly mediocre results using the min-max vectors, so this probably isn't our best option. Let's return to optimize option #2, the element-wise means."
   ]
  },
  {
   "cell_type": "markdown",
   "metadata": {},
   "source": [
    "## Cut #3: Let's instead try the elementwise vector mean."
   ]
  },
  {
   "cell_type": "code",
   "execution_count": 6,
   "metadata": {
    "collapsed": true
   },
   "outputs": [],
   "source": [
    "import string\n",
    "import nltk\n",
    "\n",
    "def word2vectorizer_elementmean(wordstring):\n",
    "    \n",
    "    wordvecs = []\n",
    "    \n",
    "    # In case of null\n",
    "    if isinstance(wordstring,float):\n",
    "        wordvecs = [0]*300\n",
    "    else:\n",
    "        punct_remover = str.maketrans('', '', string.punctuation)\n",
    "        \n",
    "        # Removing punctuation and splitting apart words\n",
    "        # Optionally, remove stopwords and stem words\n",
    "        punct_stripped = wordstring.translate(punct_remover)\n",
    "        punct_stripped = gensim.parsing.preprocessing.remove_stopwords(punct_stripped)\n",
    "        #punct_stripped = gensim.parsing.stem_text(punct_stripped)\n",
    "        wordlist = punct_stripped.split()\n",
    "\n",
    "        # If word is in Google model, add it its corresponding vec to our running list\n",
    "        for word in wordlist:\n",
    "            if word in model:\n",
    "                wordvecs.append(model[word])\n",
    "\n",
    "        # Make zero if we didn't have any matches whatsoever, otherwise average all the mean vecs\n",
    "        if len(wordvecs) == 0:\n",
    "            wordvecs = [0]*300\n",
    "        else:\n",
    "            wordvecs = np.mean(wordvecs,axis=0)\n",
    "    \n",
    "    return wordvecs"
   ]
  },
  {
   "cell_type": "code",
   "execution_count": 7,
   "metadata": {
    "collapsed": true
   },
   "outputs": [],
   "source": [
    "tagline_el_means = pd.DataFrame(shows['tagline'].astype('O').apply(word2vectorizer_elementmean).values.tolist())\n",
    "synopsis_el_means = pd.DataFrame(shows['synopsis'].astype('O').apply(word2vectorizer_elementmean).values.tolist())\n",
    "imdbplot_el_means = pd.DataFrame(shows['imdb_plot'].astype('O').apply(word2vectorizer_elementmean).values.tolist())\n",
    "tot_el_means = pd.concat([tagline_el_means,synopsis_el_means,imdbplot_el_means],axis=1)\n",
    "tot_el_means.to_pickle(\"Extras/tot_el_means.pkl\")"
   ]
  },
  {
   "cell_type": "code",
   "execution_count": 8,
   "metadata": {
    "collapsed": true
   },
   "outputs": [],
   "source": [
    "X = tot_el_means\n",
    "Y = shows['two_season_cancel']"
   ]
  },
  {
   "cell_type": "code",
   "execution_count": 12,
   "metadata": {
    "scrolled": true
   },
   "outputs": [
    {
     "name": "stdout",
     "output_type": "stream",
     "text": [
      "LRC accuracy (grid-searched): 60.03%\n"
     ]
    }
   ],
   "source": [
    "lrc = LogisticRegression()\n",
    "\n",
    "params = {'C': np.power(10,np.arange(-10,10).astype(float))\n",
    "          ,'penalty':['l1','l2']}\n",
    "\n",
    "GS_LRC = GridSearchCV(lrc,param_grid=params,scoring='accuracy',refit=True)\n",
    "\n",
    "GS_LRC.fit(X,Y)\n",
    "lrc_score = GS_LRC.best_score_\n",
    "print('LRC accuracy (grid-searched): {0:.2%}'.format(lrc_score))"
   ]
  },
  {
   "cell_type": "code",
   "execution_count": 13,
   "metadata": {},
   "outputs": [
    {
     "data": {
      "text/plain": [
       "{'C': 0.1, 'penalty': 'l2'}"
      ]
     },
     "execution_count": 13,
     "metadata": {},
     "output_type": "execute_result"
    }
   ],
   "source": [
    "GS_LRC.best_params_"
   ]
  },
  {
   "cell_type": "code",
   "execution_count": null,
   "metadata": {
    "collapsed": true
   },
   "outputs": [],
   "source": [
    "# Successive gridsearching\n",
    "rfc = RandomForestClassifier()\n",
    "\n",
    "rf_params = {\n",
    "    'n_estimators':np.arange(25,45,5),\n",
    "    'max_features':['auto','log2','sqrt',None],\n",
    "    'max_depth':np.append(np.array([None]),np.arange(2,11,1)),\n",
    "    'min_samples_leaf':np.arange(1,5),\n",
    "}\n",
    "\n",
    "GS_RFC = GridSearchCV(rfc,param_grid=rf_params,scoring='accuracy',refit=True)\n",
    "\n",
    "GS_RFC.fit(X,Y)\n",
    "rfc_score = GS_RFC.best_score_\n",
    "print('RFC accuracy (grid-searched): {0:.2%}'.format(rfc_score))"
   ]
  },
  {
   "cell_type": "code",
   "execution_count": 17,
   "metadata": {
    "collapsed": true
   },
   "outputs": [],
   "source": [
    "rfc = RandomForestClassifier(n_estimators=300)"
   ]
  },
  {
   "cell_type": "code",
   "execution_count": 18,
   "metadata": {
    "scrolled": true
   },
   "outputs": [
    {
     "data": {
      "text/plain": [
       "array([0.62642369, 0.60820046, 0.58219178])"
      ]
     },
     "execution_count": 18,
     "metadata": {},
     "output_type": "execute_result"
    }
   ],
   "source": [
    "cross_val_score(rfc,X,Y)"
   ]
  },
  {
   "cell_type": "code",
   "execution_count": 136,
   "metadata": {},
   "outputs": [
    {
     "data": {
      "text/plain": [
       "array([0.59908884, 0.5808656 , 0.56621005])"
      ]
     },
     "execution_count": 136,
     "metadata": {},
     "output_type": "execute_result"
    }
   ],
   "source": [
    "cross_val_score(gbc,X,Y)"
   ]
  },
  {
   "cell_type": "markdown",
   "metadata": {},
   "source": [
    "We're dealing with a very high dimensional dataset, especially given its length. This could again be an opportunity to use PCA."
   ]
  },
  {
   "cell_type": "code",
   "execution_count": 38,
   "metadata": {
    "collapsed": true
   },
   "outputs": [],
   "source": [
    "pca = PCA(n_components=40)"
   ]
  },
  {
   "cell_type": "code",
   "execution_count": 108,
   "metadata": {
    "collapsed": true
   },
   "outputs": [],
   "source": [
    "X_pca = pca.fit_transform(X)"
   ]
  },
  {
   "cell_type": "code",
   "execution_count": 109,
   "metadata": {},
   "outputs": [
    {
     "data": {
      "text/plain": [
       "array([0.64464692, 0.59681093, 0.57762557])"
      ]
     },
     "execution_count": 109,
     "metadata": {},
     "output_type": "execute_result"
    }
   ],
   "source": [
    "cross_val_score(lrc,X_pca,Y)"
   ]
  },
  {
   "cell_type": "code",
   "execution_count": 22,
   "metadata": {
    "collapsed": true
   },
   "outputs": [],
   "source": [
    "performance=[]\n",
    "rng = np.arange(1,900,25)\n",
    "for x in rng:\n",
    "    pca = PCA(n_components=x)\n",
    "    X_pca = pca.fit_transform(X)\n",
    "    performance.append(cross_val_score(lrc,X_pca,Y).mean())"
   ]
  },
  {
   "cell_type": "code",
   "execution_count": 23,
   "metadata": {},
   "outputs": [
    {
     "data": {
      "image/png": "[encoded data removed]",
      "text/plain": [
       "<Figure size 432x288 with 1 Axes>"
      ]
     },
     "metadata": {},
     "output_type": "display_data"
    }
   ],
   "source": [
    "plt.plot(rng,performance)\n",
    "plt.show()"
   ]
  },
  {
   "cell_type": "markdown",
   "metadata": {},
   "source": [
    "Iterating..."
   ]
  },
  {
   "cell_type": "code",
   "execution_count": 24,
   "metadata": {
    "collapsed": true
   },
   "outputs": [],
   "source": [
    "performance=[]\n",
    "rng = np.arange(20,80,1)\n",
    "for x in rng:\n",
    "    pca = PCA(n_components=x)\n",
    "    X_pca = pca.fit_transform(X)\n",
    "    performance.append(cross_val_score(lrc,X_pca,Y).mean())"
   ]
  },
  {
   "cell_type": "code",
   "execution_count": 25,
   "metadata": {},
   "outputs": [
    {
     "data": {
      "image/png": "[encoded data removed]",
      "text/plain": [
       "<Figure size 432x288 with 1 Axes>"
      ]
     },
     "metadata": {},
     "output_type": "display_data"
    }
   ],
   "source": [
    "plt.plot(rng,performance)\n",
    "plt.show()"
   ]
  },
  {
   "cell_type": "code",
   "execution_count": 26,
   "metadata": {},
   "outputs": [
    {
     "data": {
      "text/plain": [
       "76"
      ]
     },
     "execution_count": 26,
     "metadata": {},
     "output_type": "execute_result"
    }
   ],
   "source": [
    "rng[np.argmax(performance)]"
   ]
  },
  {
   "cell_type": "markdown",
   "metadata": {},
   "source": [
    "The best option is somewhere between 35 and 80, but frankly where within that range is best is pretty unclear, and it's generally not a good idea to increase the dimensionality of a feature set for very marginal returns in training accuracy. Let's instead reference the eigenvectors and eigenvalues to try to decide a cutoff."
   ]
  },
  {
   "cell_type": "code",
   "execution_count": 110,
   "metadata": {
    "collapsed": true
   },
   "outputs": [],
   "source": [
    "# Picking 100 to look at eigens\n",
    "pca = PCA(n_components=100)\n",
    "X_pca = pca.fit_transform(X)"
   ]
  },
  {
   "cell_type": "code",
   "execution_count": 112,
   "metadata": {},
   "outputs": [
    {
     "data": {
      "image/png": "[encoded data removed]",
      "text/plain": [
       "<Figure size 432x288 with 1 Axes>"
      ]
     },
     "metadata": {},
     "output_type": "display_data"
    }
   ],
   "source": [
    "plt.plot(range(1,101), pca.explained_variance_ratio_)\n",
    "plt.axvline(x=6,color='red')\n",
    "plt.show()"
   ]
  },
  {
   "cell_type": "markdown",
   "metadata": {},
   "source": [
    "Using this \"elbow\" at around 6, lets' see what kind of results we can get with different models."
   ]
  },
  {
   "cell_type": "code",
   "execution_count": 14,
   "metadata": {
    "collapsed": true
   },
   "outputs": [],
   "source": [
    "pca = PCA(n_components=6)\n",
    "X_pca = pca.fit_transform(X)"
   ]
  },
  {
   "cell_type": "code",
   "execution_count": 15,
   "metadata": {
    "collapsed": true
   },
   "outputs": [],
   "source": [
    "lrc = LogisticRegression(penalty='l1',C=1e20)"
   ]
  },
  {
   "cell_type": "code",
   "execution_count": 16,
   "metadata": {},
   "outputs": [
    {
     "data": {
      "text/plain": [
       "array([0.59225513, 0.59681093, 0.59360731])"
      ]
     },
     "execution_count": 16,
     "metadata": {},
     "output_type": "execute_result"
    }
   ],
   "source": [
    "cross_val_score(lrc,X_pca,Y)"
   ]
  },
  {
   "cell_type": "code",
   "execution_count": 19,
   "metadata": {
    "collapsed": true
   },
   "outputs": [],
   "source": [
    "gbc = GradientBoostingClassifier()"
   ]
  },
  {
   "cell_type": "code",
   "execution_count": 20,
   "metadata": {
    "collapsed": true
   },
   "outputs": [],
   "source": [
    "# Successive gridsearching\n",
    "gb_params = {\n",
    "    'loss':['deviance','exponential'],\n",
    "    'learning_rate':np.arange(0.1,1,0.1),\n",
    "    'n_estimators':np.arange(10,40,10),\n",
    "    'max_depth':np.append(np.array([None]),np.arange(1,11,1)),\n",
    "}\n",
    "\n",
    "GS_GBC = GridSearchCV(gbc,param_grid=gb_params,scoring='accuracy')"
   ]
  },
  {
   "cell_type": "code",
   "execution_count": 21,
   "metadata": {},
   "outputs": [
    {
     "name": "stdout",
     "output_type": "stream",
     "text": [
      "GBC accuracy (grid-searched): 60.18%\n"
     ]
    }
   ],
   "source": [
    "GS_GBC.fit(X_pca,Y)\n",
    "gbc_score = GS_GBC.best_score_\n",
    "print('GBC accuracy (grid-searched): {0:.2%}'.format(gbc_score))"
   ]
  },
  {
   "cell_type": "code",
   "execution_count": 22,
   "metadata": {
    "scrolled": true
   },
   "outputs": [
    {
     "data": {
      "text/plain": [
       "{'learning_rate': 0.4,\n",
       " 'loss': 'exponential',\n",
       " 'max_depth': 2,\n",
       " 'n_estimators': 20}"
      ]
     },
     "execution_count": 22,
     "metadata": {},
     "output_type": "execute_result"
    }
   ],
   "source": [
    "GS_GBC.best_params_"
   ]
  },
  {
   "cell_type": "markdown",
   "metadata": {},
   "source": [
    "Trying again with more like 40 PCA features.... <br>\n",
    "Log Regression..."
   ]
  },
  {
   "cell_type": "code",
   "execution_count": 23,
   "metadata": {
    "collapsed": true
   },
   "outputs": [],
   "source": [
    "pca = PCA(n_components=40)\n",
    "X_pca = pca.fit_transform(X)"
   ]
  },
  {
   "cell_type": "code",
   "execution_count": 24,
   "metadata": {
    "scrolled": true
   },
   "outputs": [
    {
     "name": "stdout",
     "output_type": "stream",
     "text": [
      "LRC accuracy (grid-searched): 61.17%\n"
     ]
    }
   ],
   "source": [
    "lrc = LogisticRegression()\n",
    "\n",
    "params = {'C': np.power(10,np.arange(-10,10).astype(float))\n",
    "          ,'penalty':['l1','l2']}\n",
    "\n",
    "GS_LRC = GridSearchCV(lrc,param_grid=params,scoring='accuracy',refit=True)\n",
    "\n",
    "GS_LRC.fit(X_pca,Y)\n",
    "lrc_score = GS_LRC.best_score_\n",
    "print('LRC accuracy (grid-searched): {0:.2%}'.format(lrc_score))"
   ]
  },
  {
   "cell_type": "code",
   "execution_count": 25,
   "metadata": {},
   "outputs": [
    {
     "data": {
      "text/plain": [
       "{'C': 1.0, 'penalty': 'l2'}"
      ]
     },
     "execution_count": 25,
     "metadata": {},
     "output_type": "execute_result"
    }
   ],
   "source": [
    "GS_LRC.best_params_"
   ]
  },
  {
   "cell_type": "markdown",
   "metadata": {},
   "source": [
    "RFC"
   ]
  },
  {
   "cell_type": "code",
   "execution_count": 26,
   "metadata": {
    "collapsed": true
   },
   "outputs": [],
   "source": [
    "rfc = RandomForestClassifier()\n",
    "\n",
    "# Successive gridsearching\n",
    "rf_params = {\n",
    "    'n_estimators':np.arange(25,45,5),\n",
    "    'max_features':['auto','log2','sqrt',None],\n",
    "    'max_depth':np.append(np.array([None]),np.arange(2,11,1)),\n",
    "    'min_samples_leaf':np.arange(1,5),\n",
    "}\n",
    "\n",
    "GS_RFC = GridSearchCV(rfc,param_grid=rf_params,scoring='accuracy',refit=True)"
   ]
  },
  {
   "cell_type": "code",
   "execution_count": 27,
   "metadata": {
    "scrolled": true
   },
   "outputs": [
    {
     "name": "stdout",
     "output_type": "stream",
     "text": [
      "RFC accuracy (grid-searched): 61.40%\n"
     ]
    }
   ],
   "source": [
    "GS_RFC.fit(X_pca,Y)\n",
    "rfc_em_acc = GS_RFC.best_score_\n",
    "print('RFC accuracy (grid-searched): {0:.2%}'.format(rfc_em_acc))"
   ]
  },
  {
   "cell_type": "code",
   "execution_count": 38,
   "metadata": {
    "collapsed": true
   },
   "outputs": [],
   "source": [
    "joblib.dump(GS_RFC,\"Extras/RFC_w2v_em_only.pkl\")\n",
    "pd.DataFrame(X_pca).to_pickle(\"Extras/40pca_w2v_em.pkl\")"
   ]
  },
  {
   "cell_type": "markdown",
   "metadata": {},
   "source": [
    "GBC"
   ]
  },
  {
   "cell_type": "code",
   "execution_count": 19,
   "metadata": {
    "collapsed": true
   },
   "outputs": [],
   "source": [
    "gbc = GradientBoostingClassifier()"
   ]
  },
  {
   "cell_type": "code",
   "execution_count": 20,
   "metadata": {
    "collapsed": true
   },
   "outputs": [],
   "source": [
    "# Successive gridsearching\n",
    "gb_params = {\n",
    "    'loss':['deviance','exponential'],\n",
    "    'learning_rate':np.arange(0.1,1,0.1),\n",
    "    'n_estimators':np.arange(10,40,10),\n",
    "    'max_depth':np.append(np.array([None]),np.arange(1,11,1)),\n",
    "}\n",
    "\n",
    "GS_GBC = GridSearchCV(gbc,param_grid=gb_params,scoring='accuracy')"
   ]
  },
  {
   "cell_type": "code",
   "execution_count": 21,
   "metadata": {},
   "outputs": [
    {
     "name": "stdout",
     "output_type": "stream",
     "text": [
      "GBC accuracy (grid-searched): 60.18%\n"
     ]
    }
   ],
   "source": [
    "GS_GBC.fit(X_pca,Y)\n",
    "gbc_score = GS_GBC.best_score_\n",
    "print('GBC accuracy (grid-searched): {0:.2%}'.format(gbc_score))"
   ]
  },
  {
   "cell_type": "code",
   "execution_count": 22,
   "metadata": {
    "scrolled": true
   },
   "outputs": [
    {
     "data": {
      "text/plain": [
       "{'learning_rate': 0.4,\n",
       " 'loss': 'exponential',\n",
       " 'max_depth': 2,\n",
       " 'n_estimators': 20}"
      ]
     },
     "execution_count": 22,
     "metadata": {},
     "output_type": "execute_result"
    }
   ],
   "source": [
    "GS_GBC.best_params_"
   ]
  },
  {
   "cell_type": "markdown",
   "metadata": {},
   "source": [
    "We still seem to be hovering around 60-62% performance depending on the specific model we use and various parameters. Let's see what happens when we include the original supervised modeling information."
   ]
  },
  {
   "cell_type": "code",
   "execution_count": 40,
   "metadata": {
    "collapsed": true
   },
   "outputs": [],
   "source": [
    "pca = PCA(n_components=6)\n",
    "X_pca = pd.DataFrame(pca.fit_transform(tot_el_means))"
   ]
  },
  {
   "cell_type": "code",
   "execution_count": 41,
   "metadata": {
    "collapsed": true
   },
   "outputs": [],
   "source": [
    "X = pd.concat([pd.get_dummies(shows[['network_type','country','tvmaze_ep_day','primary_genre']].apply(lambda x: x.astype('O'))).reset_index(drop=True)\\\n",
    "               ,shows[['risky_2season','start_year','quarter','month']].reset_index(drop=True),X_pca],axis=1)"
   ]
  },
  {
   "cell_type": "code",
   "execution_count": 42,
   "metadata": {},
   "outputs": [
    {
     "data": {
      "text/html": [
       "<div>\n",
       "<style scoped>\n",
       "    .dataframe tbody tr th:only-of-type {\n",
       "        vertical-align: middle;\n",
       "    }\n",
       "\n",
       "    .dataframe tbody tr th {\n",
       "        vertical-align: top;\n",
       "    }\n",
       "\n",
       "    .dataframe thead th {\n",
       "        text-align: right;\n",
       "    }\n",
       "</style>\n",
       "<table border=\"1\" class=\"dataframe\">\n",
       "  <thead>\n",
       "    <tr style=\"text-align: right;\">\n",
       "      <th></th>\n",
       "      <th>network_type_basic_cable</th>\n",
       "      <th>network_type_broadcast</th>\n",
       "      <th>network_type_premium_cable</th>\n",
       "      <th>network_type_streaming</th>\n",
       "      <th>country_Canada</th>\n",
       "      <th>country_Multiple</th>\n",
       "      <th>country_Other International</th>\n",
       "      <th>country_UK</th>\n",
       "      <th>country_USA</th>\n",
       "      <th>tvmaze_ep_day_Friday</th>\n",
       "      <th>...</th>\n",
       "      <th>risky_2season</th>\n",
       "      <th>start_year</th>\n",
       "      <th>quarter</th>\n",
       "      <th>month</th>\n",
       "      <th>0</th>\n",
       "      <th>1</th>\n",
       "      <th>2</th>\n",
       "      <th>3</th>\n",
       "      <th>4</th>\n",
       "      <th>5</th>\n",
       "    </tr>\n",
       "  </thead>\n",
       "  <tbody>\n",
       "    <tr>\n",
       "      <th>0</th>\n",
       "      <td>0</td>\n",
       "      <td>1</td>\n",
       "      <td>0</td>\n",
       "      <td>0</td>\n",
       "      <td>0</td>\n",
       "      <td>0</td>\n",
       "      <td>0</td>\n",
       "      <td>0</td>\n",
       "      <td>1</td>\n",
       "      <td>0</td>\n",
       "      <td>...</td>\n",
       "      <td>1</td>\n",
       "      <td>2010</td>\n",
       "      <td>3</td>\n",
       "      <td>9</td>\n",
       "      <td>-0.076120</td>\n",
       "      <td>-0.348940</td>\n",
       "      <td>-0.043796</td>\n",
       "      <td>-0.119944</td>\n",
       "      <td>-0.139163</td>\n",
       "      <td>0.028753</td>\n",
       "    </tr>\n",
       "    <tr>\n",
       "      <th>1</th>\n",
       "      <td>0</td>\n",
       "      <td>1</td>\n",
       "      <td>0</td>\n",
       "      <td>0</td>\n",
       "      <td>0</td>\n",
       "      <td>1</td>\n",
       "      <td>0</td>\n",
       "      <td>0</td>\n",
       "      <td>0</td>\n",
       "      <td>0</td>\n",
       "      <td>...</td>\n",
       "      <td>1</td>\n",
       "      <td>2011</td>\n",
       "      <td>3</td>\n",
       "      <td>7</td>\n",
       "      <td>0.595556</td>\n",
       "      <td>0.158800</td>\n",
       "      <td>-0.327023</td>\n",
       "      <td>0.249426</td>\n",
       "      <td>-0.440472</td>\n",
       "      <td>0.061161</td>\n",
       "    </tr>\n",
       "    <tr>\n",
       "      <th>2</th>\n",
       "      <td>1</td>\n",
       "      <td>0</td>\n",
       "      <td>0</td>\n",
       "      <td>0</td>\n",
       "      <td>0</td>\n",
       "      <td>0</td>\n",
       "      <td>0</td>\n",
       "      <td>0</td>\n",
       "      <td>1</td>\n",
       "      <td>1</td>\n",
       "      <td>...</td>\n",
       "      <td>0</td>\n",
       "      <td>2015</td>\n",
       "      <td>1</td>\n",
       "      <td>1</td>\n",
       "      <td>-0.187184</td>\n",
       "      <td>0.303944</td>\n",
       "      <td>-0.152543</td>\n",
       "      <td>0.360604</td>\n",
       "      <td>-0.011317</td>\n",
       "      <td>0.113071</td>\n",
       "    </tr>\n",
       "    <tr>\n",
       "      <th>3</th>\n",
       "      <td>1</td>\n",
       "      <td>0</td>\n",
       "      <td>0</td>\n",
       "      <td>0</td>\n",
       "      <td>0</td>\n",
       "      <td>0</td>\n",
       "      <td>0</td>\n",
       "      <td>0</td>\n",
       "      <td>1</td>\n",
       "      <td>0</td>\n",
       "      <td>...</td>\n",
       "      <td>1</td>\n",
       "      <td>2009</td>\n",
       "      <td>2</td>\n",
       "      <td>6</td>\n",
       "      <td>0.119660</td>\n",
       "      <td>-0.233015</td>\n",
       "      <td>-0.092817</td>\n",
       "      <td>0.165448</td>\n",
       "      <td>0.511842</td>\n",
       "      <td>0.350773</td>\n",
       "    </tr>\n",
       "    <tr>\n",
       "      <th>4</th>\n",
       "      <td>0</td>\n",
       "      <td>1</td>\n",
       "      <td>0</td>\n",
       "      <td>0</td>\n",
       "      <td>0</td>\n",
       "      <td>0</td>\n",
       "      <td>0</td>\n",
       "      <td>0</td>\n",
       "      <td>1</td>\n",
       "      <td>0</td>\n",
       "      <td>...</td>\n",
       "      <td>1</td>\n",
       "      <td>2012</td>\n",
       "      <td>4</td>\n",
       "      <td>12</td>\n",
       "      <td>-0.164732</td>\n",
       "      <td>-0.315039</td>\n",
       "      <td>0.067494</td>\n",
       "      <td>0.022872</td>\n",
       "      <td>0.095439</td>\n",
       "      <td>-0.050426</td>\n",
       "    </tr>\n",
       "  </tbody>\n",
       "</table>\n",
       "<p>5 rows × 33 columns</p>\n",
       "</div>"
      ],
      "text/plain": [
       "   network_type_basic_cable  network_type_broadcast  \\\n",
       "0                         0                       1   \n",
       "1                         0                       1   \n",
       "2                         1                       0   \n",
       "3                         1                       0   \n",
       "4                         0                       1   \n",
       "\n",
       "   network_type_premium_cable  network_type_streaming  country_Canada  \\\n",
       "0                           0                       0               0   \n",
       "1                           0                       0               0   \n",
       "2                           0                       0               0   \n",
       "3                           0                       0               0   \n",
       "4                           0                       0               0   \n",
       "\n",
       "   country_Multiple  country_Other International  country_UK  country_USA  \\\n",
       "0                 0                            0           0            1   \n",
       "1                 1                            0           0            0   \n",
       "2                 0                            0           0            1   \n",
       "3                 0                            0           0            1   \n",
       "4                 0                            0           0            1   \n",
       "\n",
       "   tvmaze_ep_day_Friday    ...     risky_2season  start_year  quarter  month  \\\n",
       "0                     0    ...                 1        2010        3      9   \n",
       "1                     0    ...                 1        2011        3      7   \n",
       "2                     1    ...                 0        2015        1      1   \n",
       "3                     0    ...                 1        2009        2      6   \n",
       "4                     0    ...                 1        2012        4     12   \n",
       "\n",
       "          0         1         2         3         4         5  \n",
       "0 -0.076120 -0.348940 -0.043796 -0.119944 -0.139163  0.028753  \n",
       "1  0.595556  0.158800 -0.327023  0.249426 -0.440472  0.061161  \n",
       "2 -0.187184  0.303944 -0.152543  0.360604 -0.011317  0.113071  \n",
       "3  0.119660 -0.233015 -0.092817  0.165448  0.511842  0.350773  \n",
       "4 -0.164732 -0.315039  0.067494  0.022872  0.095439 -0.050426  \n",
       "\n",
       "[5 rows x 33 columns]"
      ]
     },
     "execution_count": 42,
     "metadata": {},
     "output_type": "execute_result"
    }
   ],
   "source": [
    "# Confirming that our feature set was created correctly\n",
    "X.head()"
   ]
  },
  {
   "cell_type": "code",
   "execution_count": 44,
   "metadata": {},
   "outputs": [
    {
     "name": "stdout",
     "output_type": "stream",
     "text": [
      "GBC accuracy (grid-searched): 72.80%\n"
     ]
    }
   ],
   "source": [
    "GS_GBC.fit(X,Y)\n",
    "gbc_em_acc = GS_GBC.best_score_\n",
    "print('GBC accuracy (grid-searched): {0:.2%}'.format(gbc_em_acc))"
   ]
  },
  {
   "cell_type": "code",
   "execution_count": 45,
   "metadata": {},
   "outputs": [
    {
     "data": {
      "text/html": [
       "<div>\n",
       "<style scoped>\n",
       "    .dataframe tbody tr th:only-of-type {\n",
       "        vertical-align: middle;\n",
       "    }\n",
       "\n",
       "    .dataframe tbody tr th {\n",
       "        vertical-align: top;\n",
       "    }\n",
       "\n",
       "    .dataframe thead th {\n",
       "        text-align: right;\n",
       "    }\n",
       "</style>\n",
       "<table border=\"1\" class=\"dataframe\">\n",
       "  <thead>\n",
       "    <tr style=\"text-align: right;\">\n",
       "      <th></th>\n",
       "      <th>accuracy</th>\n",
       "      <th>precision</th>\n",
       "      <th>recall</th>\n",
       "    </tr>\n",
       "  </thead>\n",
       "  <tbody>\n",
       "    <tr>\n",
       "      <th>GBC w/ aggregate means</th>\n",
       "      <td>0.729483</td>\n",
       "      <td>0.688699</td>\n",
       "      <td>0.664395</td>\n",
       "    </tr>\n",
       "    <tr>\n",
       "      <th>RFC w/ aggregate means</th>\n",
       "      <td>0.727964</td>\n",
       "      <td>0.605476</td>\n",
       "      <td>0.671314</td>\n",
       "    </tr>\n",
       "    <tr>\n",
       "      <th>SVM Classifier w/ aggregate means</th>\n",
       "      <td>0.723404</td>\n",
       "      <td>0.678964</td>\n",
       "      <td>0.664367</td>\n",
       "    </tr>\n",
       "    <tr>\n",
       "      <th>GBC w/ element means</th>\n",
       "      <td>0.727964</td>\n",
       "      <td>0.688395</td>\n",
       "      <td>0.659029</td>\n",
       "    </tr>\n",
       "  </tbody>\n",
       "</table>\n",
       "</div>"
      ],
      "text/plain": [
       "                                   accuracy  precision    recall\n",
       "GBC w/ aggregate means             0.729483   0.688699  0.664395\n",
       "RFC w/ aggregate means             0.727964   0.605476  0.671314\n",
       "SVM Classifier w/ aggregate means  0.723404   0.678964  0.664367\n",
       "GBC w/ element means               0.727964   0.688395  0.659029"
      ]
     },
     "execution_count": 45,
     "metadata": {},
     "output_type": "execute_result"
    }
   ],
   "source": [
    "# Storing results\n",
    "gbc_em_prec = cross_val_score(GS_GBC.best_estimator_,X,Y,scoring='precision').mean()\n",
    "gbc_em_rec = cross_val_score(GS_GBC.best_estimator_,X,Y,scoring='recall').mean()\n",
    "\n",
    "word2vec_model_comp.loc['GBC w/ element means'] = [gbc_em_acc,gbc_em_prec,gbc_em_rec]\n",
    "word2vec_model_comp"
   ]
  },
  {
   "cell_type": "code",
   "execution_count": 53,
   "metadata": {},
   "outputs": [
    {
     "data": {
      "text/plain": [
       "['Extras/GS_wv_em_gbc.pkl']"
      ]
     },
     "execution_count": 53,
     "metadata": {},
     "output_type": "execute_result"
    }
   ],
   "source": [
    "joblib.dump(GS_GBC,\"Extras/GS_wv_em_gbc.pkl\")"
   ]
  },
  {
   "cell_type": "code",
   "execution_count": 56,
   "metadata": {
    "collapsed": true
   },
   "outputs": [],
   "source": [
    "word2vec_model_comp.to_pickle(\"Extras/word2vec_model_comp.pkl\")"
   ]
  },
  {
   "cell_type": "markdown",
   "metadata": {},
   "source": [
    "No improvement for our GB Classifier.\n",
    "\n",
    "##### RFC"
   ]
  },
  {
   "cell_type": "code",
   "execution_count": 50,
   "metadata": {},
   "outputs": [
    {
     "name": "stdout",
     "output_type": "stream",
     "text": [
      "RFC accuracy (grid-searched): 72.42%\n"
     ]
    }
   ],
   "source": [
    "GS_RFC.fit(X,Y)\n",
    "rfc_em_acc = GS_RFC.best_score_\n",
    "print('RFC accuracy (grid-searched): {0:.2%}'.format(rfc_em_acc))"
   ]
  },
  {
   "cell_type": "code",
   "execution_count": 51,
   "metadata": {},
   "outputs": [
    {
     "data": {
      "text/plain": [
       "{'max_depth': 6,\n",
       " 'max_features': 'sqrt',\n",
       " 'min_samples_leaf': 2,\n",
       " 'n_estimators': 35}"
      ]
     },
     "execution_count": 51,
     "metadata": {},
     "output_type": "execute_result"
    }
   ],
   "source": [
    "GS_RFC.best_params_"
   ]
  },
  {
   "cell_type": "code",
   "execution_count": 52,
   "metadata": {},
   "outputs": [
    {
     "data": {
      "text/html": [
       "<div>\n",
       "<style scoped>\n",
       "    .dataframe tbody tr th:only-of-type {\n",
       "        vertical-align: middle;\n",
       "    }\n",
       "\n",
       "    .dataframe tbody tr th {\n",
       "        vertical-align: top;\n",
       "    }\n",
       "\n",
       "    .dataframe thead th {\n",
       "        text-align: right;\n",
       "    }\n",
       "</style>\n",
       "<table border=\"1\" class=\"dataframe\">\n",
       "  <thead>\n",
       "    <tr style=\"text-align: right;\">\n",
       "      <th></th>\n",
       "      <th>accuracy</th>\n",
       "      <th>precision</th>\n",
       "      <th>recall</th>\n",
       "    </tr>\n",
       "  </thead>\n",
       "  <tbody>\n",
       "    <tr>\n",
       "      <th>GBC w/ aggregate means</th>\n",
       "      <td>0.729483</td>\n",
       "      <td>0.688699</td>\n",
       "      <td>0.664395</td>\n",
       "    </tr>\n",
       "    <tr>\n",
       "      <th>RFC w/ aggregate means</th>\n",
       "      <td>0.727964</td>\n",
       "      <td>0.605476</td>\n",
       "      <td>0.671314</td>\n",
       "    </tr>\n",
       "    <tr>\n",
       "      <th>SVM Classifier w/ aggregate means</th>\n",
       "      <td>0.723404</td>\n",
       "      <td>0.678964</td>\n",
       "      <td>0.664367</td>\n",
       "    </tr>\n",
       "    <tr>\n",
       "      <th>GBC w/ element means</th>\n",
       "      <td>0.727964</td>\n",
       "      <td>0.688395</td>\n",
       "      <td>0.659029</td>\n",
       "    </tr>\n",
       "    <tr>\n",
       "      <th>RFC w/ element means</th>\n",
       "      <td>0.724164</td>\n",
       "      <td>0.670723</td>\n",
       "      <td>0.601853</td>\n",
       "    </tr>\n",
       "  </tbody>\n",
       "</table>\n",
       "</div>"
      ],
      "text/plain": [
       "                                   accuracy  precision    recall\n",
       "GBC w/ aggregate means             0.729483   0.688699  0.664395\n",
       "RFC w/ aggregate means             0.727964   0.605476  0.671314\n",
       "SVM Classifier w/ aggregate means  0.723404   0.678964  0.664367\n",
       "GBC w/ element means               0.727964   0.688395  0.659029\n",
       "RFC w/ element means               0.724164   0.670723  0.601853"
      ]
     },
     "execution_count": 52,
     "metadata": {},
     "output_type": "execute_result"
    }
   ],
   "source": [
    "# Storing results\n",
    "rfc_em_prec = cross_val_score(GS_RFC.best_estimator_,X,Y,scoring='precision').mean()\n",
    "rfc_em_rec = cross_val_score(GS_RFC.best_estimator_,X,Y,scoring='recall').mean()\n",
    "\n",
    "word2vec_model_comp.loc['RFC w/ element means'] = [rfc_em_acc,rfc_em_prec,rfc_em_rec]\n",
    "word2vec_model_comp"
   ]
  },
  {
   "cell_type": "code",
   "execution_count": 54,
   "metadata": {},
   "outputs": [
    {
     "data": {
      "text/plain": [
       "['Extras/GS_wv_em_rfc.pkl']"
      ]
     },
     "execution_count": 54,
     "metadata": {},
     "output_type": "execute_result"
    }
   ],
   "source": [
    "joblib.dump(GS_RFC,\"Extras/GS_wv_em_rfc.pkl\")"
   ]
  },
  {
   "cell_type": "markdown",
   "metadata": {},
   "source": [
    "##### SVM"
   ]
  },
  {
   "cell_type": "code",
   "execution_count": 56,
   "metadata": {},
   "outputs": [
    {
     "data": {
      "text/html": [
       "<div>\n",
       "<style scoped>\n",
       "    .dataframe tbody tr th:only-of-type {\n",
       "        vertical-align: middle;\n",
       "    }\n",
       "\n",
       "    .dataframe tbody tr th {\n",
       "        vertical-align: top;\n",
       "    }\n",
       "\n",
       "    .dataframe thead th {\n",
       "        text-align: right;\n",
       "    }\n",
       "</style>\n",
       "<table border=\"1\" class=\"dataframe\">\n",
       "  <thead>\n",
       "    <tr style=\"text-align: right;\">\n",
       "      <th></th>\n",
       "      <th>accuracy</th>\n",
       "      <th>precision</th>\n",
       "      <th>recall</th>\n",
       "    </tr>\n",
       "  </thead>\n",
       "  <tbody>\n",
       "    <tr>\n",
       "      <th>GBC w/ aggregate means</th>\n",
       "      <td>0.729483</td>\n",
       "      <td>0.688699</td>\n",
       "      <td>0.664395</td>\n",
       "    </tr>\n",
       "    <tr>\n",
       "      <th>RFC w/ aggregate means</th>\n",
       "      <td>0.727964</td>\n",
       "      <td>0.605476</td>\n",
       "      <td>0.671314</td>\n",
       "    </tr>\n",
       "    <tr>\n",
       "      <th>SVM Classifier w/ aggregate means</th>\n",
       "      <td>0.723404</td>\n",
       "      <td>0.678964</td>\n",
       "      <td>0.664367</td>\n",
       "    </tr>\n",
       "    <tr>\n",
       "      <th>GBC w/ element means</th>\n",
       "      <td>0.727964</td>\n",
       "      <td>0.688395</td>\n",
       "      <td>0.659029</td>\n",
       "    </tr>\n",
       "    <tr>\n",
       "      <th>RFC w/ element means</th>\n",
       "      <td>0.724164</td>\n",
       "      <td>0.670723</td>\n",
       "      <td>0.601853</td>\n",
       "    </tr>\n",
       "    <tr>\n",
       "      <th>SVM Classifier w/ element means</th>\n",
       "      <td>0.718845</td>\n",
       "      <td>0.680436</td>\n",
       "      <td>0.637590</td>\n",
       "    </tr>\n",
       "  </tbody>\n",
       "</table>\n",
       "</div>"
      ],
      "text/plain": [
       "                                   accuracy  precision    recall\n",
       "GBC w/ aggregate means             0.729483   0.688699  0.664395\n",
       "RFC w/ aggregate means             0.727964   0.605476  0.671314\n",
       "SVM Classifier w/ aggregate means  0.723404   0.678964  0.664367\n",
       "GBC w/ element means               0.727964   0.688395  0.659029\n",
       "RFC w/ element means               0.724164   0.670723  0.601853\n",
       "SVM Classifier w/ element means    0.718845   0.680436  0.637590"
      ]
     },
     "execution_count": 56,
     "metadata": {},
     "output_type": "execute_result"
    }
   ],
   "source": [
    "from sklearn.preprocessing import MinMaxScaler\n",
    "\n",
    "svc = SVC()\n",
    "\n",
    "# Successive gridsearching\n",
    "svc_params = {\n",
    "    'C':np.power(10,np.arange(-2,2).astype(float)),\n",
    "    'kernel':['rbf']\n",
    "}\n",
    "\n",
    "GS_SVC = GridSearchCV(svc,param_grid=svc_params,scoring='accuracy',refit=True)\n",
    "\n",
    "GS_SVC.fit(X,Y)\n",
    "svc_em_acc = GS_SVC.best_score_\n",
    "\n",
    "SVC_pred = GS_SVC.predict(X)\n",
    "\n",
    "svc_em_prec = cross_val_score(GS_SVC.best_estimator_,X,Y,scoring='precision').mean()\n",
    "svc_em_rec = cross_val_score(GS_SVC.best_estimator_,X,Y,scoring='recall').mean()\n",
    "\n",
    "word2vec_model_comp.loc['SVM Classifier w/ element means'] = [svc_em_acc,svc_em_prec,svc_em_rec]\n",
    "word2vec_model_comp"
   ]
  },
  {
   "cell_type": "code",
   "execution_count": 57,
   "metadata": {},
   "outputs": [
    {
     "data": {
      "text/plain": [
       "['Extras/GS_wv_em_svc.pkl']"
      ]
     },
     "execution_count": 57,
     "metadata": {},
     "output_type": "execute_result"
    }
   ],
   "source": [
    "joblib.dump(GS_SVC,\"Extras/GS_wv_em_svc.pkl\")"
   ]
  },
  {
   "cell_type": "markdown",
   "metadata": {},
   "source": [
    "# Cut #4 - Custom Bagging"
   ]
  },
  {
   "cell_type": "markdown",
   "metadata": {},
   "source": [
    "As we saw, these models all performed quite poorly when added to our original supervised feature set. I doubt at this point, given the minimal learning enabled by the word2vec features alone, that they'll be able to add much to our final supervised solution regardless of the configuration. But, just to be thorough, there is another way to add these features to our model other than simply featuring them as inputs in our highest performing model from the previous exercise. That is to create a custom bagging solution, wherein our best word2vec model gets a weighted vote in the final outcome along with the supervised model, which is run separately."
   ]
  },
  {
   "cell_type": "code",
   "execution_count": 63,
   "metadata": {
    "collapsed": true
   },
   "outputs": [],
   "source": [
    "from sklearn.ensemble import VotingClassifier\n",
    "from sklearn.model_selection import KFold\n",
    "from sklearn import metrics\n",
    "kf = KFold(n_splits=3)"
   ]
  },
  {
   "cell_type": "code",
   "execution_count": 93,
   "metadata": {
    "collapsed": true
   },
   "outputs": [],
   "source": [
    "# Reloading our best models\n",
    "GS_GBC = joblib.load(\"Extras/GS_GBC.pkl\")\n",
    "w2v_rfc = joblib.load(\"Extras/RFC_w2v_em_only.pkl\")\n",
    "GS_SVC = joblib.load(\"Extras/GS_svc.pkl\")\n",
    "\n",
    "X = pd.read_pickle(\"Extras/best_feat_x\")\n",
    "X_pca = pd.read_pickle(\"Extras/40pca_w2v_em.pkl\")\n",
    "Y = pd.read_pickle(\"Extras/y\")"
   ]
  },
  {
   "cell_type": "code",
   "execution_count": 124,
   "metadata": {
    "collapsed": true
   },
   "outputs": [],
   "source": [
    "def CustomBagging(X,Y,model1,model2,w2v_model,weight1,weight2,weight3):\n",
    "    \n",
    "    train_ind = []\n",
    "    test_ind = []\n",
    "    accuracies = []\n",
    "\n",
    "    for train,test in kf.split(X):\n",
    "        train_ind.append(train)\n",
    "        test_ind.append(test)\n",
    "      \n",
    "    print('Fold Accuracies:')\n",
    "    for train,test in zip(train_ind,test_ind):\n",
    "        \n",
    "        # Train base supervised model\n",
    "        x_train = X.iloc[train]\n",
    "        y_train = Y.iloc[train]\n",
    "        \n",
    "        model1.best_estimator_.fit(x_train,y_train)\n",
    "        \n",
    "        # Train next best supervised model\n",
    "        \n",
    "        model2.best_estimator_.fit(x_train,y_train)\n",
    "        \n",
    "        # Train word2vec model\n",
    "        x_w2v_train = X_pca.iloc[train]\n",
    "        y_train = Y.iloc[train]\n",
    "        \n",
    "        w2v_model.best_estimator_.fit(x_w2v_train,y_train)\n",
    "        \n",
    "        # Make predictions with base supervised model and next best\n",
    "        x_test = X.iloc[test]\n",
    "        y_test = Y.iloc[test]\n",
    "        \n",
    "        y_pred = model1.best_estimator_.predict(x_test)\n",
    "        y_pred_next = model2.best_estimator_.predict(x_test)\n",
    "        \n",
    "        # Make predictions with w2v\n",
    "        x_w2v_test = X_pca.iloc[test]\n",
    "        y_pred_w2v = w2v_model.best_estimator_.predict(x_w2v_test)\n",
    "\n",
    "        # Weight the predictions\n",
    "        full_pred = np.round((y_pred*weight1) + (y_pred_next*weight2) + (y_pred_w2v*weight3))\n",
    "        \n",
    "        accuracy = metrics.accuracy_score(full_pred,y_test)\n",
    "        accuracies.append(accuracy)\n",
    "        \n",
    "        #print(y_pred,y_pred_next,y_pred_w2v)\n",
    "        print(accuracy)\n",
    "        \n",
    "    print('\\nMean Accuracy: {}'.format(np.mean(accuracies)))"
   ]
  },
  {
   "cell_type": "code",
   "execution_count": 125,
   "metadata": {},
   "outputs": [
    {
     "name": "stdout",
     "output_type": "stream",
     "text": [
      "Fold Accuracies:\n",
      "0.7403189066059226\n",
      "0.6765375854214123\n",
      "0.7420091324200914\n",
      "\n",
      "Mean Accuracy: 0.7196218748158087\n"
     ]
    }
   ],
   "source": [
    "CustomBagging(X,Y,GS_GBC,GS_SVC,w2v_rfc,(1/3),(1/3),(1/3))"
   ]
  },
  {
   "cell_type": "code",
   "execution_count": 126,
   "metadata": {},
   "outputs": [
    {
     "name": "stdout",
     "output_type": "stream",
     "text": [
      "Fold Accuracies:\n",
      "0.7403189066059226\n",
      "0.6765375854214123\n",
      "0.7420091324200914\n",
      "\n",
      "Mean Accuracy: 0.7196218748158087\n"
     ]
    }
   ],
   "source": [
    "CustomBagging(X,Y,GS_GBC,GS_SVC,w2v_rfc,(0.5),(1/4),(1/4))"
   ]
  },
  {
   "cell_type": "code",
   "execution_count": 128,
   "metadata": {},
   "outputs": [
    {
     "name": "stdout",
     "output_type": "stream",
     "text": [
      "Fold Accuracies:\n",
      "0.7403189066059226\n",
      "0.6765375854214123\n",
      "0.7442922374429224\n",
      "\n",
      "Mean Accuracy: 0.7203829098234191\n"
     ]
    }
   ],
   "source": [
    "CustomBagging(X,Y,GS_GBC,GS_SVC,w2v_rfc,(1/2),(1/4),(1/4))"
   ]
  },
  {
   "cell_type": "markdown",
   "metadata": {},
   "source": [
    "We're seeing basically the same thing. No matter how we combine it, the word2vec feature space is just not helping us that much. We could come up with a different bagging solution that involves probabilities, but given the weak learning of the word2vec solution, I highly doubt this will be any more fruitful than what we've already tried. Sad! We'll try ONE more thing in the next notebook - an application of these word2vec mappings in a keras neural net."
   ]
  }
 ],
 "metadata": {
  "kernelspec": {
   "display_name": "Python 3",
   "language": "python",
   "name": "python3"
  },
  "language_info": {
   "codemirror_mode": {
    "name": "ipython",
    "version": 3
   },
   "file_extension": ".py",
   "mimetype": "text/x-python",
   "name": "python",
   "nbconvert_exporter": "python",
   "pygments_lexer": "ipython3",
   "version": "3.6.3"
  }
 },
 "nbformat": 4,
 "nbformat_minor": 2
}
